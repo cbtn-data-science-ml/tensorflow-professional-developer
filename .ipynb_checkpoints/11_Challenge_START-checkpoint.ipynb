{
 "cells": [
  {
   "cell_type": "code",
   "execution_count": 1,
   "id": "2f83dac3-a5e4-4d9c-8088-b86e565a7dc0",
   "metadata": {},
   "outputs": [],
   "source": [
    "import tensorflow as tf"
   ]
  },
  {
   "cell_type": "code",
   "execution_count": 4,
   "id": "6dbc782b-c283-4953-ba2a-710e27c4332e",
   "metadata": {},
   "outputs": [],
   "source": [
    "(train_images, train_labels), (test_images, test_labels) =tf.keras.datasets.fashion_mnist.load_data()"
   ]
  },
  {
   "cell_type": "code",
   "execution_count": 6,
   "id": "8810aefb-ec63-429a-bb5b-229ae4765f66",
   "metadata": {},
   "outputs": [],
   "source": [
    "# Feature Scaling\n",
    "train_norm = tf.keras.utils.normalize(train_images, axis=1)\n",
    "test_norm = tf.keras.utils.normalize(test_images, axis=1)"
   ]
  },
  {
   "cell_type": "code",
   "execution_count": 7,
   "id": "0bd82248-5860-4707-adc7-19c540ddfa39",
   "metadata": {},
   "outputs": [],
   "source": [
    "# Convert labels to one-hot\n",
    "train_labels = tf.keras.utils.to_categorical(train_labels)\n",
    "test_labels = tf.keras.utils.to_categorical(test_labels)"
   ]
  },
  {
   "cell_type": "code",
   "execution_count": 10,
   "id": "c10ca24a-59d6-4725-bcf9-43147093aeed",
   "metadata": {},
   "outputs": [],
   "source": [
    "# Define model\n",
    "model = tf.keras.Sequential([\n",
    "    tf.keras.layers.Flatten(input_shape=(28, 28)),\n",
    "    tf.keras.layers.Dense(128, activation='relu'),\n",
    "    tf.keras.layers.Dense(64, activation='relu'),\n",
    "    tf.keras.layers.Dense(10, activation='softmax')\n",
    "])\n",
    "# Use a lattened input layer\n",
    "# two hiden layers 128 & 64 neurons respectively\n",
    "# output layer with 10 neurons, one for each class\n",
    "# be sure to use the right activation function\n"
   ]
  },
  {
   "cell_type": "code",
   "execution_count": 11,
   "id": "d5aa7621-ef3f-4333-85d8-be4d1d5dfed4",
   "metadata": {},
   "outputs": [],
   "source": [
    "# compile and train model\n",
    "model.compile(loss=tf.keras.losses.CategoricalCrossentropy(),\n",
    "              optimizer='adam',\n",
    "              metrics=['accuracy'])"
   ]
  },
  {
   "cell_type": "code",
   "execution_count": 14,
   "id": "675959f9-9562-4b83-93c2-8000b9a9bfc5",
   "metadata": {},
   "outputs": [
    {
     "name": "stdout",
     "output_type": "stream",
     "text": [
      "Epoch 1/10\n",
      "  92/1875 [>.............................] - ETA: 0s - loss: 1.1561 - accuracy: 0.5985  "
     ]
    },
    {
     "name": "stderr",
     "output_type": "stream",
     "text": [
      "2024-05-25 09:54:08.442388: W tensorflow/tsl/platform/profile_utils/cpu_utils.cc:128] Failed to get CPU frequency: 0 Hz\n"
     ]
    },
    {
     "name": "stdout",
     "output_type": "stream",
     "text": [
      "1875/1875 [==============================] - 1s 728us/step - loss: 0.4962 - accuracy: 0.8180 - val_loss: 0.4333 - val_accuracy: 0.8416\n",
      "Epoch 2/10\n",
      "1875/1875 [==============================] - 1s 701us/step - loss: 0.3603 - accuracy: 0.8673 - val_loss: 0.4003 - val_accuracy: 0.8507\n",
      "Epoch 3/10\n",
      "1875/1875 [==============================] - 1s 695us/step - loss: 0.3244 - accuracy: 0.8798 - val_loss: 0.3742 - val_accuracy: 0.8650\n",
      "Epoch 4/10\n",
      "1875/1875 [==============================] - 1s 692us/step - loss: 0.2993 - accuracy: 0.8884 - val_loss: 0.3442 - val_accuracy: 0.8751\n",
      "Epoch 5/10\n",
      "1875/1875 [==============================] - 1s 705us/step - loss: 0.2821 - accuracy: 0.8939 - val_loss: 0.3540 - val_accuracy: 0.8736\n",
      "Epoch 6/10\n",
      "1875/1875 [==============================] - 1s 698us/step - loss: 0.2655 - accuracy: 0.9005 - val_loss: 0.3440 - val_accuracy: 0.8781\n",
      "Epoch 7/10\n",
      "1875/1875 [==============================] - 1s 686us/step - loss: 0.2526 - accuracy: 0.9030 - val_loss: 0.3320 - val_accuracy: 0.8821\n",
      "Epoch 8/10\n",
      "1875/1875 [==============================] - 1s 702us/step - loss: 0.2408 - accuracy: 0.9090 - val_loss: 0.3350 - val_accuracy: 0.8847\n",
      "Epoch 9/10\n",
      "1875/1875 [==============================] - 1s 694us/step - loss: 0.2293 - accuracy: 0.9129 - val_loss: 0.3458 - val_accuracy: 0.8794\n",
      "Epoch 10/10\n",
      "1875/1875 [==============================] - 1s 686us/step - loss: 0.2183 - accuracy: 0.9184 - val_loss: 0.3404 - val_accuracy: 0.8835\n"
     ]
    }
   ],
   "source": [
    "# evaluate performance\n",
    "history = model.fit(train_norm, train_labels, epochs=10, validation_data=(test_norm, test_labels))"
   ]
  },
  {
   "cell_type": "code",
   "execution_count": null,
   "id": "f4403b78-86ea-4c74-a0fe-9ae7f843d693",
   "metadata": {},
   "outputs": [],
   "source": []
  }
 ],
 "metadata": {
  "kernelspec": {
   "display_name": "Python 3 (ipykernel)",
   "language": "python",
   "name": "python3"
  },
  "language_info": {
   "codemirror_mode": {
    "name": "ipython",
    "version": 3
   },
   "file_extension": ".py",
   "mimetype": "text/x-python",
   "name": "python",
   "nbconvert_exporter": "python",
   "pygments_lexer": "ipython3",
   "version": "3.11.5"
  }
 },
 "nbformat": 4,
 "nbformat_minor": 5
}
