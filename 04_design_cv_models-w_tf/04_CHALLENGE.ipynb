{
 "cells": [
  {
   "cell_type": "code",
   "execution_count": 15,
   "id": "50cd0612-a4d5-4061-973d-7e7bd8d14aea",
   "metadata": {},
   "outputs": [
    {
     "name": "stdout",
     "output_type": "stream",
     "text": [
      "Cloning into 'ml_datasets'...\n",
      "remote: Enumerating objects: 2013, done.\u001b[K\n",
      "remote: Counting objects: 100% (3/3), done.\u001b[K\n",
      "remote: Total 2013 (delta 0), reused 3 (delta 0), pack-reused 2010\u001b[K\n",
      "Receiving objects: 100% (2013/2013), 95.94 MiB | 5.85 MiB/s, done.\n"
     ]
    }
   ],
   "source": [
    "# Clone repo\n",
    "!git clone https://github.com/cbtn-data-science-ml/ml_datasets.git"
   ]
  },
  {
   "cell_type": "code",
   "execution_count": 16,
   "id": "a6365baa-17dd-4caa-96c2-66c229fd8984",
   "metadata": {},
   "outputs": [],
   "source": [
    "# import packages\n",
    "import tensorflow as tf\n",
    "from tensorflow.keras.preprocessing.image import ImageDataGenerator\n",
    "import matplotlib.pyplot as plt"
   ]
  },
  {
   "cell_type": "code",
   "execution_count": 17,
   "id": "dc1e7e72-803e-4ced-8c4c-b81d458fa58c",
   "metadata": {},
   "outputs": [],
   "source": [
    "import os"
   ]
  },
  {
   "cell_type": "code",
   "execution_count": 18,
   "id": "e9fe9869-9c48-4445-8e8e-01a05613d462",
   "metadata": {},
   "outputs": [
    {
     "data": {
      "text/plain": [
       "'/Users/barrios/Desktop/GitHub/tensorflow-professional-developer/04_design_cv_models-w_tf/ml_datasets'"
      ]
     },
     "execution_count": 18,
     "metadata": {},
     "output_type": "execute_result"
    }
   ],
   "source": [
    "%pwd"
   ]
  },
  {
   "cell_type": "code",
   "execution_count": 19,
   "id": "6cccf801-2cf7-47a5-a13e-c90d8f7e7882",
   "metadata": {},
   "outputs": [],
   "source": [
    "# change dir\n",
    "os.chdir('ml_datasets')"
   ]
  },
  {
   "cell_type": "code",
   "execution_count": 20,
   "id": "611b5c13-d074-45dd-854e-7bfc63835e45",
   "metadata": {},
   "outputs": [
    {
     "data": {
      "text/plain": [
       "'/Users/barrios/Desktop/GitHub/tensorflow-professional-developer/04_design_cv_models-w_tf/ml_datasets/ml_datasets'"
      ]
     },
     "execution_count": 20,
     "metadata": {},
     "output_type": "execute_result"
    }
   ],
   "source": [
    "%pwd"
   ]
  },
  {
   "cell_type": "code",
   "execution_count": 21,
   "id": "9856d05b-4b25-4abd-8308-87b5ff7775f4",
   "metadata": {},
   "outputs": [],
   "source": [
    "# rescale both train/test datagens\n",
    "train_datagen = ImageDataGenerator(rescale=1./255)\n",
    "test_datagen = ImageDataGenerator(rescale=1./255)"
   ]
  },
  {
   "cell_type": "code",
   "execution_count": 22,
   "id": "25fc66be-c432-447f-83ea-77acea3b221f",
   "metadata": {},
   "outputs": [
    {
     "name": "stdout",
     "output_type": "stream",
     "text": [
      "Found 1500 images belonging to 2 classes.\n"
     ]
    }
   ],
   "source": [
    "# train_generator & test_genertor\n",
    "\n",
    "train_generator = train_datagen.flow_from_directory(\n",
    "    'ramen_sushi/train/',\n",
    "    target_size=(200, 200),\n",
    "    batch_size=32,\n",
    "    class_mode='binary'\n",
    ")"
   ]
  },
  {
   "cell_type": "code",
   "execution_count": 23,
   "id": "ce9ba84d-f072-4fa9-8b3f-3f75c9c8ecdd",
   "metadata": {},
   "outputs": [
    {
     "name": "stdout",
     "output_type": "stream",
     "text": [
      "Found 500 images belonging to 2 classes.\n"
     ]
    }
   ],
   "source": [
    "test_generator = test_datagen.flow_from_directory(\n",
    "    'ramen_sushi/test/',\n",
    "    target_size=(200, 200),\n",
    "    batch_size=32,\n",
    "    class_mode='binary'\n",
    ")"
   ]
  },
  {
   "cell_type": "code",
   "execution_count": 24,
   "id": "cab99791-f28a-41ed-8625-3d3b7b91490f",
   "metadata": {},
   "outputs": [
    {
     "name": "stdout",
     "output_type": "stream",
     "text": [
      "Total train images: 1500\n",
      "Total test images: 500\n",
      "Classes: {'ramen': 0, 'sushi': 1}\n"
     ]
    }
   ],
   "source": [
    "print(f\"Total train images: {train_generator.samples}\")\n",
    "print(f\"Total test images: {test_generator.samples}\")\n",
    "print(f\"Classes: {train_generator.class_indices}\")"
   ]
  },
  {
   "cell_type": "code",
   "execution_count": 25,
   "id": "192a3205-11bb-47e8-9097-45629554364f",
   "metadata": {},
   "outputs": [],
   "source": [
    "class myCallback(tf.keras.callbacks.Callback):\n",
    "    def on_epoch_end(self, epoch, logs={}):\n",
    "        if(logs.get('loss') < 0.5):\n",
    "            print('\\nLoss is lower that 50%: STOPPING!')\n",
    "            self.model.stop_training = True"
   ]
  },
  {
   "cell_type": "code",
   "execution_count": 26,
   "id": "835b9891-042a-4b1a-941d-25d1cba30090",
   "metadata": {},
   "outputs": [],
   "source": [
    "callbacks = myCallback()"
   ]
  },
  {
   "cell_type": "code",
   "execution_count": 28,
   "id": "158f2a26-45cd-4fb7-8b48-da6653334fb4",
   "metadata": {},
   "outputs": [
    {
     "name": "stdout",
     "output_type": "stream",
     "text": [
      "Epoch 1/10\n"
     ]
    },
    {
     "name": "stderr",
     "output_type": "stream",
     "text": [
      "2024-05-28 09:51:05.113545: I tensorflow/core/common_runtime/executor.cc:1197] [/device:CPU:0] (DEBUG INFO) Executor start aborting (this does not indicate an error and you can ignore this message): INVALID_ARGUMENT: You must feed a value for placeholder tensor 'Placeholder/_0' with dtype int32\n",
      "\t [[{{node Placeholder/_0}}]]\n"
     ]
    },
    {
     "name": "stdout",
     "output_type": "stream",
     "text": [
      "47/47 [==============================] - ETA: 0s - loss: 0.8451 - accuracy: 0.4953"
     ]
    },
    {
     "name": "stderr",
     "output_type": "stream",
     "text": [
      "2024-05-28 09:51:15.245198: I tensorflow/core/common_runtime/executor.cc:1197] [/device:CPU:0] (DEBUG INFO) Executor start aborting (this does not indicate an error and you can ignore this message): INVALID_ARGUMENT: You must feed a value for placeholder tensor 'Placeholder/_0' with dtype int32\n",
      "\t [[{{node Placeholder/_0}}]]\n"
     ]
    },
    {
     "name": "stdout",
     "output_type": "stream",
     "text": [
      "47/47 [==============================] - 11s 237ms/step - loss: 0.8451 - accuracy: 0.4953 - val_loss: 0.6918 - val_accuracy: 0.5620\n",
      "Epoch 2/10\n",
      "47/47 [==============================] - 11s 233ms/step - loss: 0.6349 - accuracy: 0.6593 - val_loss: 0.5803 - val_accuracy: 0.7180\n",
      "Epoch 3/10\n",
      "47/47 [==============================] - ETA: 0s - loss: 0.4777 - accuracy: 0.7840\n",
      "Loss is lower that 50%: STOPPING!\n",
      "47/47 [==============================] - 11s 235ms/step - loss: 0.4777 - accuracy: 0.7840 - val_loss: 0.5715 - val_accuracy: 0.7000\n"
     ]
    }
   ],
   "source": [
    "# Define CNN model\n",
    "model = tf.keras.Sequential([\n",
    "    tf.keras.layers.Conv2D(64, (3, 3), activation='relu', input_shape=(200, 200, 3)),\n",
    "    tf.keras.layers.MaxPooling2D(2,2),\n",
    "    tf.keras.layers.Conv2D(64, (3, 3), activation='relu'),\n",
    "    tf.keras.layers.MaxPooling2D(2,2),\n",
    "    tf.keras.layers.Flatten(),\n",
    "    tf.keras.layers.Dense(128, activation='relu'),\n",
    "    tf.keras.layers.Dense(64, activation='relu'),\n",
    "    tf.keras.layers.Dense(1, activation='sigmoid'),\n",
    "    \n",
    "])\n",
    "\n",
    "# Compile model\n",
    "\n",
    "model.compile(\n",
    "    optimizer='adam',\n",
    "    loss='binary_crossentropy',\n",
    "    metrics=['accuracy']\n",
    ")\n",
    "\n",
    "\n",
    "# Train model\n",
    "history = model.fit(\n",
    "    train_generator,\n",
    "    epochs=10,\n",
    "    validation_data=test_generator,\n",
    "    callbacks=[callbacks]\n",
    ")\n"
   ]
  }
 ],
 "metadata": {
  "kernelspec": {
   "display_name": "Python 3 (ipykernel)",
   "language": "python",
   "name": "python3"
  },
  "language_info": {
   "codemirror_mode": {
    "name": "ipython",
    "version": 3
   },
   "file_extension": ".py",
   "mimetype": "text/x-python",
   "name": "python",
   "nbconvert_exporter": "python",
   "pygments_lexer": "ipython3",
   "version": "3.11.5"
  }
 },
 "nbformat": 4,
 "nbformat_minor": 5
}
