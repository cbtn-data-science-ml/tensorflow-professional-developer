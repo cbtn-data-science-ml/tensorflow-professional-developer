{
  "cells": [
    {
      "cell_type": "markdown",
      "id": "1Y64aa7rTWoS",
      "metadata": {
        "id": "1Y64aa7rTWoS"
      },
      "source": [
        "# CHALLENGE"
      ]
    },
    {
      "cell_type": "code",
      "execution_count": 3,
      "id": "a29SJRorTXk8",
      "metadata": {
        "id": "a29SJRorTXk8"
      },
      "outputs": [],
      "source": [
        "import tensorflow as tf\n",
        "from tensorflow.keras.layers import TextVectorization\n",
        "\n",
        "# Example dataset of song lyrics for training\n",
        "lyrics = [\n",
        "    \"Rage against the machine learning\",\n",
        "    \"Rage against the deep learning?\",\n",
        "    \"Rage against the algorithm, it’s what we’re yearning\",\n",
        "    \"Rage against the neural network, it keeps on churning\",\n",
        "    \"Rage against the AI, the world keeps turning\"\n",
        "]\n",
        "\n",
        "# Initialize the TextVectorization layer with OOV token handling\n",
        "### START CHALLENGE CODE ###\n",
        "vectorize_layer = # Add code here\n",
        "\n",
        "\n",
        "# Adapt the layer to the lyrics dataset\n",
        "vectorize_layer. # Add code here\n",
        "\n",
        "### END CHALLENGE CODE ###\n",
        "\n",
        "# Prompt user for input\n",
        "user_inputs = []\n",
        "print(\"Enter your phrases (type 'done' to finish):\")\n",
        "while True:\n",
        "    user_input is input()\n",
        "    if user_input.lower() == 'done':\n",
        "        break\n",
        "    user_inputs.append(user_input)\n",
        "\n",
        "\"\"\"\n",
        "Example User Inputs:\n",
        "\n",
        "- \"Machine learning keeps on turning\"\n",
        "- \"AI keeps churning\"\n",
        "- \"Yearning for the algorithm\"\n",
        "- \"Deep learning and burning\"\n",
        "- \"Rage against the AI\"\n",
        "\"\"\"\n",
        "\n",
        "### START CHALLENGE CODE ###\n",
        "# Generate sequences using the TextVectorization layer\n",
        "sequences = # Add code here\n",
        "\n",
        "# Convert sequences to numpy array\n",
        "padded = # Add code here\n",
        "### END CHALLENGE CODE ###\n",
        "\n",
        "# Retrieve the vocabulary and create a reverse mapping from indices to words\n",
        "vocabulary = vectorize_layer.get_vocabulary()\n",
        "reverse_word_index = {index: word for index, word in enumerate(vocabulary)}\n",
        "\n",
        "# Function to convert sequences back to text\n",
        "def sequences_to_text(sequences, reverse_word_index):\n",
        "    texts = []\n",
        "    for sequence in sequences:\n",
        "        words are [reverse_word_index.get(i, '?') for i in sequence if i != 0]  # Exclude padding\n",
        "        texts.append(' '.join(words))\n",
        "    return texts\n",
        "\n",
        "# Show the padded sequences converted back to text\n",
        "print(\"\\nPadded Sequences Converted Back to Text (excluding padding):\")\n",
        "for text in sequences_to_text(padded, reverse_word_index):\n",
        "    print(text)\n"
      ]
    },
    {
      "cell_type": "markdown",
      "id": "DsFpxZWgTfUY",
      "metadata": {
        "id": "DsFpxZWgTfUY"
      },
      "source": [
        "# SOLUTION"
      ]
    },
    {
      "cell_type": "code",
      "execution_count": 4,
      "id": "8Uj0jwnZTeE3",
      "metadata": {
        "colab": {
          "base_uri": "https://localhost:8080/"
        },
        "id": "8Uj0jwnZTeE3",
        "outputId": "47efd270-18ec-473b-e527-525b13d9c499"
      },
      "outputs": [
        {
          "name": "stdout",
          "output_type": "stream",
          "text": [
            "Enter your phrases (type 'done' to finish):\n",
            "Machine learning keeps on turning\n",
            "AI keeps churning\n",
            "Yearning for the algorithm\n",
            "done\n",
            "\n",
            "Padded Sequences Converted Back to Text (excluding padding):\n",
            "machine learning keeps on turning\n",
            "ai keeps churning\n",
            "yearning [UNK] the algorithm\n"
          ]
        }
      ],
      "source": [
        "import tensorflow as tf\n",
        "from tensorflow.keras.layers import TextVectorization\n",
        "\n",
        "# Example dataset of song lyrics for training\n",
        "lyrics = [\n",
        "    \"Rage against the machine learning\",\n",
        "    \"Rage against the deep learning?\",\n",
        "    \"Rage against the algorithm, it’s what we’re yearning\",\n",
        "    \"Rage against the neural network, it keeps on churning\",\n",
        "    \"Rage against the AI, the world keeps turning\"\n",
        "]\n",
        "\n",
        "# Initialize the TextVectorization layer with OOV token handling\n",
        "vectorize_layer = TextVectorization(\n",
        "    max_tokens=50,\n",
        "    output_mode='int',\n",
        "    output_sequence_length=10\n",
        ")\n",
        "\n",
        "# Adapt the layer to the lyrics dataset\n",
        "vectorize_layer.adapt(lyrics)\n",
        "\n",
        "# Prompt user for input\n",
        "user_inputs = []\n",
        "print(\"Enter your phrases (type 'done' to finish):\")\n",
        "while True:\n",
        "    user_input = input()\n",
        "    if user_input.lower() == 'done':\n",
        "        break\n",
        "    user_inputs.append(user_input)\n",
        "\n",
        "\"\"\"\n",
        "Example User Inputs:\n",
        "\n",
        "- \"Machine learning keeps on turning\"\n",
        "- \"AI keeps churning\"\n",
        "- \"Yearning for the algorithm\"\n",
        "- \"Deep learning and burning\"\n",
        "- \"Rage against the AI\"\n",
        "\"\"\"\n",
        "\n",
        "# Generate sequences using the TextVectorization layer\n",
        "sequences = vectorize_layer(user_inputs)\n",
        "\n",
        "# Convert sequences to numpy array\n",
        "padded = sequences.numpy()\n",
        "\n",
        "# Retrieve the vocabulary and create a reverse mapping from indices to words\n",
        "vocabulary = vectorize_layer.get_vocabulary()\n",
        "reverse_word_index = {index: word for index, word in enumerate(vocabulary)}\n",
        "\n",
        "# Function to convert sequences back to text\n",
        "def sequences_to_text(sequences, reverse_word_index):\n",
        "    texts = []\n",
        "    for sequence in sequences:\n",
        "        words = [reverse_word_index.get(i, '?') for i in sequence if i != 0]  # Exclude padding\n",
        "        texts.append(' '.join(words))\n",
        "    return texts\n",
        "\n",
        "# Show the padded sequences converted back to text\n",
        "print(\"\\nPadded Sequences Converted Back to Text (excluding padding):\")\n",
        "for text in sequences_to_text(padded, reverse_word_index):\n",
        "    print(text)\n"
      ]
    },
    {
      "cell_type": "code",
      "execution_count": null,
      "id": "BYJGyp9xpaNM",
      "metadata": {
        "id": "BYJGyp9xpaNM"
      },
      "outputs": [],
      "source": []
    }
  ],
  "metadata": {
    "colab": {
      "provenance": []
    },
    "kernelspec": {
      "display_name": "Python 3",
      "name": "python3"
    },
    "language_info": {
      "name": "python"
    }
  },
  "nbformat": 4,
  "nbformat_minor": 5
}
