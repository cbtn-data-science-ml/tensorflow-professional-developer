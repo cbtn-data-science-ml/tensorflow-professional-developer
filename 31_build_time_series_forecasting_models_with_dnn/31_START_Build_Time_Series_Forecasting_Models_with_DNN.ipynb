{
  "nbformat": 4,
  "nbformat_minor": 5,
  "metadata": {
    "colab": {
      "provenance": []
    },
    "language_info": {
      "name": "python"
    },
    "kernelspec": {
      "name": "python3",
      "display_name": "Python 3"
    }
  },
  "cells": [
    {
      "cell_type": "markdown",
      "metadata": {
        "id": "kKnLi-1c1zZr"
      },
      "source": [
        "# **Time Series Forecasting with TensorFlow: A Comprehensive Guide**\n",
        "\n",
        "In this skill, we'll cover time series forecasting and apply what we learned about temporal patterns in the last skill. I designed skill for you to code along to understand each step conceptually and programmatically.\n",
        "\n",
        "## **1. What is a sine wave? What is a series? Why use this sine example vs. others?**"
      ],
      "id": "kKnLi-1c1zZr"
    },
    {
      "cell_type": "code",
      "metadata": {
        "id": "dvmaAbJ91zZu"
      },
      "source": [
        "# Imports\n",
        "\n",
        "# Generate synthetic time series data\n",
        "time = # 1200 time steps\n",
        "series = # Sine wave with noise\n",
        "\n",
        "# Plot the synthetic data\n"
      ],
      "id": "dvmaAbJ91zZu",
      "execution_count": null,
      "outputs": []
    },
    {
      "cell_type": "markdown",
      "metadata": {
        "id": "OSSKUYpc1zZv"
      },
      "source": [
        "## **2. What is `split_time`? Explaining the slicing and visualization.**\n"
      ],
      "id": "OSSKUYpc1zZv"
    },
    {
      "cell_type": "code",
      "metadata": {
        "id": "uyz_v61r1zZv"
      },
      "source": [
        "# Split the data\n",
        "\n",
        "\n",
        "# Plot the split\n"
      ],
      "id": "uyz_v61r1zZv",
      "execution_count": null,
      "outputs": []
    },
    {
      "cell_type": "markdown",
      "metadata": {
        "id": "aG6LRFW41zZv"
      },
      "source": [
        "# **3. What is `windowed_dataset`, and why do we use it?**\n"
      ],
      "id": "aG6LRFW41zZv"
    },
    {
      "cell_type": "code",
      "metadata": {
        "id": "gbQDHNHQ1zZv"
      },
      "source": [
        "import tensorflow as tf\n",
        "\n",
        "# Define a windowed dataset function\n",
        "def windowed_dataset(series, window_size, batch_size):\n",
        "    \"\"\"\n",
        "    Create a windowed dataset for training our  model.\n",
        "\n",
        "    Parameters:\n",
        "    - series: The full time series data (wave heights).\n",
        "    - window_size: The number of data points in each window (how much of the wave).\n",
        "    - batch_size: The number of windows processed in one batch.\n",
        "\n",
        "    Returns:\n",
        "    - A TensorFlow dataset with overlapping windows and their corresponding labels.\n",
        "    \"\"\"\n",
        "\n",
        "    # 1. Convert the time series into individual elements\n",
        "    dataset = # YOUR CODE HERE\n",
        "\n",
        "    # 2. Create windows of size (window_size + 1)\n",
        "    # Each window includes `window_size` inputs (features) and 1 label (the next value)\n",
        "    dataset = # YOUR CODE HERE\n",
        "\n",
        "    # 3. Flatten each window\n",
        "    dataset = # YOUR CODE HERE\n",
        "\n",
        "    # 4. Split each window into features and labels\n",
        "    dataset = # YOUR CODE HERE\n",
        "\n",
        "    # 5. Shuffle the windows\n",
        "    dataset = # YOUR CODE HERE\n",
        "\n",
        "    # 6. Batch multiple windows together\n",
        "    dataset = # YOUR CODE HERE\n",
        "\n",
        "    # 7. Prefetch to optimize during training\n",
        "    dataset = # YOUR CODE HERE\n",
        "\n",
        "    # Return the prepared dataset\n",
        "    return dataset\n",
        "\n",
        "\n",
        "# Define parameters\n",
        "window_size = # YOUR CODE HERE\n",
        "batch_size = # YOUR CODE HERE\n",
        "\n",
        "# Create windowed datasets\n",
        "train_dataset = # YOUR CODE HERE\n",
        "valid_dataset = # YOUR CODE HERE"
      ],
      "id": "gbQDHNHQ1zZv",
      "execution_count": null,
      "outputs": []
    },
    {
      "cell_type": "markdown",
      "metadata": {
        "id": "rStAvtPc1zZv"
      },
      "source": [
        "## **4. What is the model seeing and learning?**"
      ],
      "id": "rStAvtPc1zZv"
    },
    {
      "cell_type": "code",
      "metadata": {
        "id": "L3TvTHG51zZw"
      },
      "source": [
        "# Visualize a single sample window\n"
      ],
      "id": "L3TvTHG51zZw",
      "execution_count": null,
      "outputs": []
    },
    {
      "cell_type": "markdown",
      "metadata": {
        "id": "ibJROqFi1zZw"
      },
      "source": [
        "## **5. Build and Compile the Model**"
      ],
      "id": "ibJROqFi1zZw"
    },
    {
      "cell_type": "code",
      "metadata": {
        "id": "LdrE3wii1zZw"
      },
      "source": [
        "# Build the model\n",
        "model = # YOUR CODE HERE\n",
        "\n",
        "# Compile the model\n",
        "model. # YOUR CODE HERE\n",
        "model. # YOUR CODE HERE"
      ],
      "id": "LdrE3wii1zZw",
      "execution_count": null,
      "outputs": []
    },
    {
      "cell_type": "markdown",
      "metadata": {
        "id": "_s-F1gNF1zZw"
      },
      "source": [
        "## **6. Train the model**"
      ],
      "id": "_s-F1gNF1zZw"
    },
    {
      "cell_type": "code",
      "metadata": {
        "id": "8_qHszwf1zZw"
      },
      "source": [
        "# Train the model\n",
        "history = # YOUR CODE HERE"
      ],
      "id": "8_qHszwf1zZw",
      "execution_count": null,
      "outputs": []
    },
    {
      "cell_type": "markdown",
      "metadata": {
        "id": "_mM_z8vc1zZw"
      },
      "source": [
        "## **7. Plot performance using loss—NOT accuracy.**\n"
      ],
      "id": "_mM_z8vc1zZw"
    },
    {
      "cell_type": "code",
      "metadata": {
        "id": "tNsYz5nC1zZw"
      },
      "source": [
        "# Plot training and validation loss\n"
      ],
      "id": "tNsYz5nC1zZw",
      "execution_count": null,
      "outputs": []
    },
    {
      "cell_type": "markdown",
      "metadata": {
        "id": "osk2Uumj1zZx"
      },
      "source": [
        "## **8. Make Predictions**"
      ],
      "id": "osk2Uumj1zZx"
    },
    {
      "cell_type": "code",
      "metadata": {
        "id": "gFPVDlh51zZx"
      },
      "source": [
        "# Make predictions\n",
        "\n",
        "\n",
        "# Plot predictions vs. true values\n"
      ],
      "id": "gFPVDlh51zZx",
      "execution_count": null,
      "outputs": []
    }
  ]
}