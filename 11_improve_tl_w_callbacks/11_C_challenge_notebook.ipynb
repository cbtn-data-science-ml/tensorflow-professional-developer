{
 "cells": [
  {
   "cell_type": "code",
   "execution_count": 1,
   "id": "4c8c9262-8c3d-4d62-8f71-2ce127a0ffc8",
   "metadata": {},
   "outputs": [],
   "source": [
    "# https://github.com/cbtn-data-science-ml/ml_datasets.git"
   ]
  },
  {
   "cell_type": "code",
   "execution_count": 1,
   "id": "5616bfcd-c8a2-4baa-9ccb-735b19fae79a",
   "metadata": {},
   "outputs": [
    {
     "name": "stdout",
     "output_type": "stream",
     "text": [
      "zsh:1: command not found: nvidia-smi\n"
     ]
    }
   ],
   "source": [
    "!nvidia-smi"
   ]
  },
  {
   "cell_type": "code",
   "execution_count": 2,
   "id": "e9444d01-0a2c-46fc-95dd-b23d4c06dbbe",
   "metadata": {},
   "outputs": [
    {
     "name": "stdout",
     "output_type": "stream",
     "text": [
      "fatal: destination path 'ml_datasets' already exists and is not an empty directory.\n"
     ]
    }
   ],
   "source": [
    "!git clone https://github.com/cbtn-data-science-ml/ml_datasets.git"
   ]
  },
  {
   "cell_type": "code",
   "execution_count": 3,
   "id": "890f3cbb-6b9a-4a39-9865-e5a3ca2ae74a",
   "metadata": {},
   "outputs": [],
   "source": [
    "import os\n",
    "os.chdir('ml_datasets')"
   ]
  },
  {
   "cell_type": "code",
   "execution_count": 4,
   "id": "4746e28d-e658-41e4-8a43-71441dbd7f2f",
   "metadata": {},
   "outputs": [
    {
     "name": "stdout",
     "output_type": "stream",
     "text": [
      "/Users/barrios/Desktop/GitHub/tensorflow-professional-developer/11_improve_tl_w_callbacks/ml_datasets\n"
     ]
    }
   ],
   "source": [
    "!pwd"
   ]
  },
  {
   "cell_type": "code",
   "execution_count": 5,
   "id": "3728b25f-3b51-42c1-aa80-66439947600b",
   "metadata": {},
   "outputs": [
    {
     "name": "stdout",
     "output_type": "stream",
     "text": [
      "README.md         \u001b[34mfood_10\u001b[m\u001b[m           \u001b[34mreduced_dataset\u001b[m\u001b[m\n",
      "\u001b[34mcats_vs_dogs\u001b[m\u001b[m      \u001b[34mramen_sushi\u001b[m\u001b[m       \u001b[34mwaffles_or_nachos\u001b[m\u001b[m\n"
     ]
    }
   ],
   "source": [
    "!ls"
   ]
  },
  {
   "cell_type": "code",
   "execution_count": 6,
   "id": "d3a779b8-920d-4f7d-bc07-13747cf18ce7",
   "metadata": {},
   "outputs": [],
   "source": [
    "dataset_path = 'reduced_dataset'"
   ]
  },
  {
   "cell_type": "code",
   "execution_count": 7,
   "id": "17c220b4-f5df-4c30-b164-ae231779cc66",
   "metadata": {
    "scrolled": true
   },
   "outputs": [
    {
     "name": "stdout",
     "output_type": "stream",
     "text": [
      "Found 800 images belonging to 10 classes.\n",
      "Found 2000 images belonging to 10 classes.\n"
     ]
    }
   ],
   "source": [
    "import tensorflow as tf\n",
    "from keras.preprocessing.image import ImageDataGenerator\n",
    "\n",
    "# update hyperparams\n",
    "IMAGE_SHAPE = (200, 200)\n",
    "BATCH_SIZE = 32\n",
    "\n",
    "train_datagen = ImageDataGenerator(\n",
    "    rescale = 1./255\n",
    ")\n",
    "\n",
    "test_datagen = ImageDataGenerator(\n",
    "    rescale = 1./255\n",
    ")\n",
    "\n",
    "train_generator = train_datagen.flow_from_directory(\n",
    "    dataset_path,\n",
    "    target_size=IMAGE_SHAPE,\n",
    "    batch_size=BATCH_SIZE,\n",
    "    class_mode='categorical'\n",
    ")\n",
    "test_generator = train_datagen.flow_from_directory(\n",
    "    'food_10/test',\n",
    "    target_size=IMAGE_SHAPE,\n",
    "    batch_size=BATCH_SIZE,\n",
    "    class_mode='categorical'\n",
    ")"
   ]
  },
  {
   "cell_type": "code",
   "execution_count": 13,
   "id": "81c83c51-2cbf-4d93-8dcc-9ce531afd791",
   "metadata": {},
   "outputs": [],
   "source": [
    "# Predefined Callbacks\n",
    "from tensorflow.keras.callbacks import TensorBoard"
   ]
  },
  {
   "cell_type": "code",
   "execution_count": 14,
   "id": "8b143b06-ea69-44d8-a005-32ce4f546769",
   "metadata": {},
   "outputs": [],
   "source": [
    "tensorboard_callback = TensorBoard(log_dir='./logs')\n",
    "\n",
    "# model.fit(\n",
    "#     path,\n",
    "#     epochs,\n",
    "#     test_set,\n",
    "#     callbacks=[tensorboard_callback]\n",
    "# )"
   ]
  },
  {
   "cell_type": "code",
   "execution_count": 15,
   "id": "039127c6-aecd-4a98-9eb8-f81de878ca7b",
   "metadata": {},
   "outputs": [],
   "source": [
    "from tensorflow.keras import Sequential\n",
    "from tensorflow.keras.layers import Conv2D, MaxPool2D, Flatten, Dense, Activation, Dropout\n",
    "from tensorflow.keras.optimizers import RMSprop"
   ]
  },
  {
   "cell_type": "code",
   "execution_count": 16,
   "id": "3c38459b-c26c-4f6f-b940-b5d688356850",
   "metadata": {},
   "outputs": [
    {
     "name": "stdout",
     "output_type": "stream",
     "text": [
      "Epoch 1/10\n"
     ]
    },
    {
     "name": "stderr",
     "output_type": "stream",
     "text": [
      "2024-06-09 11:10:39.152793: I tensorflow/core/common_runtime/executor.cc:1197] [/device:CPU:0] (DEBUG INFO) Executor start aborting (this does not indicate an error and you can ignore this message): INVALID_ARGUMENT: You must feed a value for placeholder tensor 'Placeholder/_0' with dtype int32\n",
      "\t [[{{node Placeholder/_0}}]]\n"
     ]
    },
    {
     "name": "stdout",
     "output_type": "stream",
     "text": [
      "25/25 [==============================] - ETA: 0s - loss: 2.5664 - accuracy: 0.1025"
     ]
    },
    {
     "name": "stderr",
     "output_type": "stream",
     "text": [
      "2024-06-09 11:10:42.170282: I tensorflow/core/common_runtime/executor.cc:1197] [/device:CPU:0] (DEBUG INFO) Executor start aborting (this does not indicate an error and you can ignore this message): INVALID_ARGUMENT: You must feed a value for placeholder tensor 'Placeholder/_0' with dtype int32\n",
      "\t [[{{node Placeholder/_0}}]]\n"
     ]
    },
    {
     "name": "stdout",
     "output_type": "stream",
     "text": [
      "25/25 [==============================] - 7s 286ms/step - loss: 2.5664 - accuracy: 0.1025 - val_loss: 2.3002 - val_accuracy: 0.1145\n",
      "Epoch 2/10\n",
      "25/25 [==============================] - 7s 279ms/step - loss: 2.2665 - accuracy: 0.1550 - val_loss: 2.2880 - val_accuracy: 0.1530\n",
      "Epoch 3/10\n",
      "25/25 [==============================] - 7s 283ms/step - loss: 2.1755 - accuracy: 0.2275 - val_loss: 2.2080 - val_accuracy: 0.1885\n",
      "Epoch 4/10\n",
      "25/25 [==============================] - 7s 280ms/step - loss: 2.0407 - accuracy: 0.2713 - val_loss: 2.1922 - val_accuracy: 0.2145\n",
      "Epoch 5/10\n",
      "25/25 [==============================] - 7s 278ms/step - loss: 1.8959 - accuracy: 0.3288 - val_loss: 2.1814 - val_accuracy: 0.2030\n",
      "Epoch 6/10\n",
      "25/25 [==============================] - 7s 277ms/step - loss: 1.6783 - accuracy: 0.4437 - val_loss: 2.0981 - val_accuracy: 0.2460\n",
      "Epoch 7/10\n",
      "25/25 [==============================] - 7s 283ms/step - loss: 1.4304 - accuracy: 0.5238 - val_loss: 2.1291 - val_accuracy: 0.2465\n",
      "Epoch 8/10\n",
      "25/25 [==============================] - 7s 284ms/step - loss: 1.0884 - accuracy: 0.6612 - val_loss: 2.1586 - val_accuracy: 0.2465\n",
      "Epoch 9/10\n",
      "25/25 [==============================] - 7s 285ms/step - loss: 0.6850 - accuracy: 0.7900 - val_loss: 2.2532 - val_accuracy: 0.2520\n",
      "Epoch 10/10\n",
      "25/25 [==============================] - 7s 284ms/step - loss: 0.4519 - accuracy: 0.8662 - val_loss: 2.6154 - val_accuracy: 0.2280\n"
     ]
    }
   ],
   "source": [
    "# Building the Sequential model with Dropout layers\n",
    "model = Sequential([\n",
    "    Conv2D(filters=10, kernel_size=(3, 3),input_shape=(200, 200, 3)),\n",
    "    Activation(activation='relu'),\n",
    "    tf.keras.layers.Dropout(0.2),\n",
    "    Conv2D(10, 3, activation='relu'),\n",
    "    MaxPool2D(),\n",
    "    tf.keras.layers.Dropout(0.2),\n",
    "    Conv2D(10, 3, activation='relu'),\n",
    "    MaxPool2D(),\n",
    "    tf.keras.layers.Dropout(0.2),\n",
    "    Flatten(),\n",
    "    Dense(10, activation='softmax') # 10 output neuron and softmax for mlti-class classification\n",
    "])\n",
    "\n",
    "# Compile Model\n",
    "model.compile(optimizer='Adam', # instead of 'adam' we can adjust the LR to improve performance with RMSprop\n",
    "              loss='categorical_crossentropy',\n",
    "              metrics=['accuracy'])\n",
    "\n",
    "# Train Model\n",
    "history = model.fit(\n",
    "    train_generator,\n",
    "    epochs=10,\n",
    "    validation_data=test_generator,\n",
    "    callbacks=[tensorboard_callback]\n",
    ")\n"
   ]
  },
  {
   "cell_type": "code",
   "execution_count": 17,
   "id": "bfde976f-7943-4dc2-a53f-9760e483c40b",
   "metadata": {},
   "outputs": [],
   "source": [
    "%load_ext tensorboard"
   ]
  },
  {
   "cell_type": "code",
   "execution_count": 18,
   "id": "76bc44c1-e8d4-4d6b-a77a-dccb490247b4",
   "metadata": {},
   "outputs": [
    {
     "data": {
      "text/html": [
       "\n",
       "      <iframe id=\"tensorboard-frame-6742875756c7cbb0\" width=\"100%\" height=\"800\" frameborder=\"0\">\n",
       "      </iframe>\n",
       "      <script>\n",
       "        (function() {\n",
       "          const frame = document.getElementById(\"tensorboard-frame-6742875756c7cbb0\");\n",
       "          const url = new URL(\"/\", window.location);\n",
       "          const port = 6006;\n",
       "          if (port) {\n",
       "            url.port = port;\n",
       "          }\n",
       "          frame.src = url;\n",
       "        })();\n",
       "      </script>\n",
       "    "
      ],
      "text/plain": [
       "<IPython.core.display.HTML object>"
      ]
     },
     "metadata": {},
     "output_type": "display_data"
    }
   ],
   "source": [
    "%tensorboard --logdir ./logs"
   ]
  },
  {
   "cell_type": "code",
   "execution_count": null,
   "id": "bb013474-9055-4469-a0d3-d042ca6e895b",
   "metadata": {},
   "outputs": [],
   "source": [
    "# Visualize and Debug ML models\n",
    "# Uses: viz learning curves\n",
    "# Mitigating Overfitting\n",
    "# Images, Audio, Text(NLP), embedding projector"
   ]
  },
  {
   "cell_type": "code",
   "execution_count": null,
   "id": "2fed6617-0180-49d5-8039-b08abcab7ce4",
   "metadata": {},
   "outputs": [],
   "source": []
  }
 ],
 "metadata": {
  "kernelspec": {
   "display_name": "Python 3 (ipykernel)",
   "language": "python",
   "name": "python3"
  },
  "language_info": {
   "codemirror_mode": {
    "name": "ipython",
    "version": 3
   },
   "file_extension": ".py",
   "mimetype": "text/x-python",
   "name": "python",
   "nbconvert_exporter": "python",
   "pygments_lexer": "ipython3",
   "version": "3.11.5"
  }
 },
 "nbformat": 4,
 "nbformat_minor": 5
}
