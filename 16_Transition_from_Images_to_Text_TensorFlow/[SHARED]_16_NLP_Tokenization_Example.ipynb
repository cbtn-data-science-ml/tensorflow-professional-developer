{
  "cells": [
    {
      "cell_type": "markdown",
      "id": "0a5fe5c2",
      "metadata": {
        "id": "0a5fe5c2"
      },
      "source": [
        "# Teaching Computers to Read\n",
        "## From Pixels to Characters with Natural Language Processing (NLP)"
      ]
    },
    {
      "cell_type": "markdown",
      "id": "34e82e8b",
      "metadata": {
        "id": "34e82e8b"
      },
      "source": [
        "### Understanding ASCII and Its Limitations in NLP"
      ]
    },
    {
      "cell_type": "markdown",
      "id": "55c93f62",
      "metadata": {
        "id": "55c93f62"
      },
      "source": [
        "\n",
        "ASCII (American Standard Code for Information Interchange)."
      ]
    },
    {
      "cell_type": "markdown",
      "id": "ebe9a969",
      "metadata": {
        "id": "ebe9a969"
      },
      "source": [
        "\n",
        "| Character | ASCII Code |\n",
        "|-----------|------------|\n",
        "| C         | 67         |\n",
        "| a         | 97         |\n",
        "| t         | 116        |\n",
        "| s         | 115        |\n",
        "|           | 32         |\n",
        "| D         | 68         |\n",
        "| o         | 111        |\n",
        "| g         | 103        |\n",
        "        "
      ]
    },
    {
      "cell_type": "markdown",
      "id": "70024926",
      "metadata": {
        "id": "70024926"
      },
      "source": [
        "\n",
        "Now, consider the word \"CATS DOG\":\n",
        "\n",
        "| Character | ASCII Code |\n",
        "|-----------|------------|\n",
        "| C         | 67         |\n",
        "| A         | 65         |\n",
        "| T         | 84         |\n",
        "| S         | 83         |\n",
        "| D         | 68         |\n",
        "| O         | 79         |\n",
        "| G         | 71         |\n",
        "        "
      ]
    },
    {
      "cell_type": "code",
      "source": [],
      "metadata": {
        "id": "T17XFwAl3jOx"
      },
      "id": "T17XFwAl3jOx",
      "execution_count": null,
      "outputs": []
    },
    {
      "cell_type": "markdown",
      "id": "f8d08b04",
      "metadata": {
        "id": "f8d08b04"
      },
      "source": [
        "### Why Not Use ASCII for NLP?"
      ]
    },
    {
      "cell_type": "markdown",
      "id": "e1f5170e",
      "metadata": {
        "id": "e1f5170e"
      },
      "source": [
        "When comparing words that are anagrams, like \"CATS\" and \"ACTS.\""
      ]
    },
    {
      "cell_type": "markdown",
      "id": "36bcb771",
      "metadata": {
        "id": "36bcb771"
      },
      "source": [
        "\n",
        "| Character | ASCII Code |\n",
        "|-----------|------------|\n",
        "| A         | 65         |\n",
        "| C         | 67         |\n",
        "| T         | 84         |\n",
        "| S         | 83         |\n",
        "        "
      ]
    },
    {
      "cell_type": "code",
      "source": [],
      "metadata": {
        "id": "hMJ42n9-3kdR"
      },
      "id": "hMJ42n9-3kdR",
      "execution_count": null,
      "outputs": []
    },
    {
      "cell_type": "markdown",
      "id": "d1ca9464",
      "metadata": {
        "id": "d1ca9464"
      },
      "source": [
        "### Encoding Text for Neural Networks"
      ]
    },
    {
      "cell_type": "markdown",
      "id": "cda2332f",
      "metadata": {
        "id": "cda2332f"
      },
      "source": [
        "\n",
        "Here are some of the packages we’ll be using:\n",
        "\n",
        "- `tensorflow`\n",
        "- `tensorflow-datasets`\n",
        "- `scikit-learn`\n",
        "- `pandas`\n",
        "- `matplotlib`\n",
        "- `seaborn`\n",
        "\n",
        "If you’re not familiar with pandas, check out my Python and Pandas for Data Manipulation course to review or learn how to work with pandas, matplotlib, and seaborn.\n",
        "        "
      ]
    },
    {
      "cell_type": "markdown",
      "id": "d8f09294",
      "metadata": {
        "id": "d8f09294"
      },
      "source": [
        "\n",
        "```python\n",
        "import tensorflow as tf\n",
        "import tensorflow_datasets as tfds\n",
        "import sklearn\n",
        "import pandas as pd\n",
        "import matplotlib.pyplot as plt\n",
        "import seaborn as sns\n",
        "```\n",
        "        "
      ]
    },
    {
      "cell_type": "markdown",
      "id": "f6b45135",
      "metadata": {
        "id": "f6b45135"
      },
      "source": [
        "\n",
        "#### Original Sentence: \"Can you teach me how to code?\"\n",
        "\n",
        "| Sequence Number | Word      |\n",
        "|-----------------|-----------|\n",
        "| 001             | Can       |\n",
        "| 002             | you       |\n",
        "| 003             | teach     |\n",
        "| 004             | me        |\n",
        "| 005             | how       |\n",
        "| 006             | to        |\n",
        "| 007             | code      |\n",
        "        "
      ]
    },
    {
      "cell_type": "code",
      "source": [
        "# Add code here"
      ],
      "metadata": {
        "id": "XKylucNE0s0L"
      },
      "id": "XKylucNE0s0L",
      "execution_count": null,
      "outputs": []
    },
    {
      "cell_type": "markdown",
      "id": "873e20b4",
      "metadata": {
        "id": "873e20b4"
      },
      "source": [
        "\n",
        "#### Modified Sentence: \"Can you teach me how to draw?\"\n",
        "\n",
        "| Sequence Number | Word      |\n",
        "|-----------------|-----------|\n",
        "| 001             | Can       |\n",
        "| 002             | you       |\n",
        "| 003             | teach     |\n",
        "| 004             | me        |\n",
        "| 005             | how       |\n",
        "| 006             | to        |\n",
        "| 008             | draw      |\n",
        "        "
      ]
    },
    {
      "cell_type": "code",
      "execution_count": null,
      "id": "2fd90005",
      "metadata": {
        "id": "2fd90005"
      },
      "outputs": [],
      "source": [
        "# Add code here"
      ]
    }
  ],
  "metadata": {
    "colab": {
      "provenance": []
    }
  },
  "nbformat": 4,
  "nbformat_minor": 5
}
