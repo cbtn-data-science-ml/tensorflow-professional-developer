{
 "cells": [
  {
   "cell_type": "code",
   "execution_count": null,
   "id": "b7278e68-fa1d-4d6a-b027-c1b9c4dd861c",
   "metadata": {},
   "outputs": [],
   "source": [
    "import tensorflow as tf\n",
    "import numpy as np\n",
    "\n",
    "\n",
    "embedding_layer = model.layers[0] \n",
    "embeddings = embedding_layer.get_weights()[0]\n",
    "\n",
    "print(embeddings.shape)\n",
    "\n",
    "vocab = vectorize_layer.get_vocabulary()\n",
    "\n",
    "reverse_index = {index: word for index, word in enumerate(vocab)}\n",
    "\n",
    "first_10_pairs = list(reverse_index.items())[:10]\n",
    "for index, word in first_10_pairs:\n",
    "    print(index, word)\n",
    "\n",
    "np.savetxt(\"vectors.tsv\", embeddings, delimiter=\"\\t\", fmt='%.6f')\n",
    "\n",
    "with open(\"metadata.tsv\", \"w\", encoding=\"utf-8\") as f:\n",
    "    f.write(\"Word\\n\")\n",
    "    for word in vocab:\n",
    "        f.write(word + '\\n')\n",
    "        \n",
    "with open('metadata.tsv', 'r', encoding='utf-8') as f:\n",
    "    metadata_lines = f.readlines()\n",
    "\n",
    "print(\"Files saved successfully: 'vectors.tsv' and 'metadata.tsv'\")\n"
   ]
  },
  {
   "cell_type": "code",
   "execution_count": null,
   "id": "5b8c993e-7dfe-46d5-95f2-9640b31a182b",
   "metadata": {},
   "outputs": [],
   "source": []
  }
 ],
 "metadata": {
  "kernelspec": {
   "display_name": "Python 3 (ipykernel)",
   "language": "python",
   "name": "python3"
  },
  "language_info": {
   "codemirror_mode": {
    "name": "ipython",
    "version": 3
   },
   "file_extension": ".py",
   "mimetype": "text/x-python",
   "name": "python",
   "nbconvert_exporter": "python",
   "pygments_lexer": "ipython3",
   "version": "3.11.5"
  }
 },
 "nbformat": 4,
 "nbformat_minor": 5
}
