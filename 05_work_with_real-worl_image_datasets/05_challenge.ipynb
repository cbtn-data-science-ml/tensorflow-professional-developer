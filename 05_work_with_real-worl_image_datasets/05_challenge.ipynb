{
 "cells": [
  {
   "cell_type": "code",
   "execution_count": 2,
   "id": "525216e4-cda1-413f-bf05-23ae3d665088",
   "metadata": {},
   "outputs": [
    {
     "name": "stdout",
     "output_type": "stream",
     "text": [
      "Cloning into 'ml_datasets'...\n",
      "remote: Enumerating objects: 4022, done.\u001b[K\n",
      "remote: Total 4022 (delta 0), reused 0 (delta 0), pack-reused 4022\u001b[K\n",
      "Receiving objects: 100% (4022/4022), 195.73 MiB | 15.24 MiB/s, done.\n",
      "Resolving deltas: 100% (1/1), done.\n"
     ]
    }
   ],
   "source": [
    "!git clone https://github.com/cbtn-data-science-ml/ml_datasets.git"
   ]
  },
  {
   "cell_type": "code",
   "execution_count": 4,
   "id": "2ce5a6d0-b553-45f5-a117-475eb21b420a",
   "metadata": {},
   "outputs": [],
   "source": [
    "# import packages\n",
    "import os\n",
    "import tensorflow as tf\n",
    "from tensorflow.keras.preprocessing.image import ImageDataGenerator"
   ]
  },
  {
   "cell_type": "code",
   "execution_count": 8,
   "id": "33bd6d13-b7ae-47c8-a82f-44bbb3750ab0",
   "metadata": {},
   "outputs": [],
   "source": [
    "os.chdir('ml_datasets')"
   ]
  },
  {
   "cell_type": "code",
   "execution_count": 9,
   "id": "31efab44-69f4-40d0-9cbd-51b8fe4de35a",
   "metadata": {},
   "outputs": [
    {
     "data": {
      "text/plain": [
       "'/Users/barrios/Desktop/GitHub/tensorflow-professional-developer/05_work_with_real-worl_image_datasets/ml_datasets'"
      ]
     },
     "execution_count": 9,
     "metadata": {},
     "output_type": "execute_result"
    }
   ],
   "source": [
    "%pwd"
   ]
  },
  {
   "cell_type": "code",
   "execution_count": 10,
   "id": "2f969691-c18c-4b26-ba13-37aa66e59cb3",
   "metadata": {},
   "outputs": [],
   "source": [
    "# data augmentation\n",
    "train_datagen = ImageDataGenerator(\n",
    "    rescale=1./255,\n",
    "    rotation_range=30,\n",
    "    horizontal_flip=True,\n",
    "    fill_mode='nearest'\n",
    ")"
   ]
  },
  {
   "cell_type": "code",
   "execution_count": 11,
   "id": "ac146b43-5f8d-4875-be2e-d2be24977667",
   "metadata": {},
   "outputs": [],
   "source": [
    "# rescale\n",
    "test_datagen = ImageDataGenerator(rescale=1.0/255)"
   ]
  },
  {
   "cell_type": "code",
   "execution_count": 12,
   "id": "ba5017ee-eae4-4964-bd5b-b30685e04073",
   "metadata": {},
   "outputs": [
    {
     "name": "stdout",
     "output_type": "stream",
     "text": [
      "Found 1500 images belonging to 2 classes.\n",
      "Found 500 images belonging to 2 classes.\n"
     ]
    }
   ],
   "source": [
    "# train & test data generators\n",
    "train_generator = train_datagen.flow_from_directory(\n",
    "    'waffles_or_nachos/train/',\n",
    "    target_size=(200, 200),\n",
    "    batch_size=32,\n",
    "    class_mode='binary',\n",
    "    seed=42\n",
    ")\n",
    "\n",
    "test_generator = test_datagen.flow_from_directory(\n",
    "    'waffles_or_nachos/test/',\n",
    "    target_size=(200, 200),\n",
    "    batch_size=32,\n",
    "    class_mode='binary',\n",
    "    seed=42\n",
    ")"
   ]
  },
  {
   "cell_type": "code",
   "execution_count": 14,
   "id": "fa474a58-762f-4e36-b4d1-1b5e92583fbf",
   "metadata": {},
   "outputs": [],
   "source": [
    "# define model CNN/Pooling\n",
    "model = tf.keras.Sequential([\n",
    "    tf.keras.layers.Conv2D(64, (3,3), activation='relu', input_shape=(200, 200, 3)),\n",
    "    tf.keras.layers.MaxPooling2D(2, 2),\n",
    "    tf.keras.layers.Conv2D(64, (3,3), activation='relu'),\n",
    "    tf.keras.layers.MaxPooling2D(2, 2),\n",
    "    tf.keras.layers.Flatten(),\n",
    "    tf.keras.layers.Dense(128, activation='relu'),\n",
    "    tf.keras.layers.Dense(1, activation='sigmoid')\n",
    "])"
   ]
  },
  {
   "cell_type": "code",
   "execution_count": 15,
   "id": "833263a8-8e21-4b61-8d6f-f5611ce7f72f",
   "metadata": {},
   "outputs": [],
   "source": [
    "# Compile model\n",
    "model.compile(\n",
    "    optimizer='adam',\n",
    "    loss='binary_crossentropy',\n",
    "    metrics=['accuracy']\n",
    ")"
   ]
  },
  {
   "cell_type": "code",
   "execution_count": 16,
   "id": "89f907ee-a772-4e13-b59f-7a6afafc7edc",
   "metadata": {},
   "outputs": [
    {
     "name": "stdout",
     "output_type": "stream",
     "text": [
      "Epoch 1/10\n"
     ]
    },
    {
     "name": "stderr",
     "output_type": "stream",
     "text": [
      "2024-05-29 07:25:38.978081: I tensorflow/core/common_runtime/executor.cc:1197] [/device:CPU:0] (DEBUG INFO) Executor start aborting (this does not indicate an error and you can ignore this message): INVALID_ARGUMENT: You must feed a value for placeholder tensor 'Placeholder/_0' with dtype int32\n",
      "\t [[{{node Placeholder/_0}}]]\n",
      "2024-05-29 07:25:38.981484: W tensorflow/tsl/platform/profile_utils/cpu_utils.cc:128] Failed to get CPU frequency: 0 Hz\n"
     ]
    },
    {
     "name": "stdout",
     "output_type": "stream",
     "text": [
      "47/47 [==============================] - 10s 212ms/step - loss: 0.8214 - accuracy: 0.5940\n",
      "Epoch 2/10\n",
      "47/47 [==============================] - 10s 208ms/step - loss: 0.5985 - accuracy: 0.6860\n",
      "Epoch 3/10\n",
      "47/47 [==============================] - 10s 207ms/step - loss: 0.5725 - accuracy: 0.7020\n",
      "Epoch 4/10\n",
      "47/47 [==============================] - 10s 209ms/step - loss: 0.6025 - accuracy: 0.6873\n",
      "Epoch 5/10\n",
      "47/47 [==============================] - 10s 212ms/step - loss: 0.5534 - accuracy: 0.7433\n",
      "Epoch 6/10\n",
      "47/47 [==============================] - 10s 213ms/step - loss: 0.5280 - accuracy: 0.7453\n",
      "Epoch 7/10\n",
      "47/47 [==============================] - 10s 209ms/step - loss: 0.4928 - accuracy: 0.7740\n",
      "Epoch 8/10\n",
      "47/47 [==============================] - 10s 208ms/step - loss: 0.4912 - accuracy: 0.7700\n",
      "Epoch 9/10\n",
      "47/47 [==============================] - 10s 208ms/step - loss: 0.5106 - accuracy: 0.7647\n",
      "Epoch 10/10\n",
      "47/47 [==============================] - 10s 209ms/step - loss: 0.4718 - accuracy: 0.7893\n"
     ]
    }
   ],
   "source": [
    "# train model\n",
    "history = model.fit(\n",
    "    train_generator,\n",
    "    epochs=10\n",
    ")"
   ]
  },
  {
   "cell_type": "code",
   "execution_count": null,
   "id": "ccfeb7c0-f023-498d-b4d7-64c046ded4ab",
   "metadata": {},
   "outputs": [],
   "source": []
  }
 ],
 "metadata": {
  "kernelspec": {
   "display_name": "Python 3 (ipykernel)",
   "language": "python",
   "name": "python3"
  },
  "language_info": {
   "codemirror_mode": {
    "name": "ipython",
    "version": 3
   },
   "file_extension": ".py",
   "mimetype": "text/x-python",
   "name": "python",
   "nbconvert_exporter": "python",
   "pygments_lexer": "ipython3",
   "version": "3.11.5"
  }
 },
 "nbformat": 4,
 "nbformat_minor": 5
}
