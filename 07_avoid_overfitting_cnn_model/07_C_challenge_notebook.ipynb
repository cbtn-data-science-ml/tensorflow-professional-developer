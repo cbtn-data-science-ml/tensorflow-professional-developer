{
 "cells": [
  {
   "cell_type": "code",
   "execution_count": 1,
   "id": "43ea914f-c0d0-428f-bc42-4b36f9b614e1",
   "metadata": {},
   "outputs": [],
   "source": [
    "import tensorflow as tf\n",
    "from tensorflow.keras.preprocessing.image import ImageDataGenerator\n",
    "import os"
   ]
  },
  {
   "cell_type": "code",
   "execution_count": 2,
   "id": "f7e94ef0-57b0-4910-a952-f1f306373f04",
   "metadata": {},
   "outputs": [],
   "source": [
    "os.chdir('ml_datasets')"
   ]
  },
  {
   "cell_type": "code",
   "execution_count": 3,
   "id": "994601fd-3eda-4e4a-a880-4ff1314263d1",
   "metadata": {},
   "outputs": [],
   "source": [
    "train_datagen = ImageDataGenerator(rescale=1./255)\n",
    "test_datagen = ImageDataGenerator(rescale=1./255)"
   ]
  },
  {
   "cell_type": "code",
   "execution_count": 4,
   "id": "62c3ac55-439c-4048-9f5a-ad200cd93f34",
   "metadata": {},
   "outputs": [
    {
     "name": "stdout",
     "output_type": "stream",
     "text": [
      "Found 1500 images belonging to 2 classes.\n"
     ]
    }
   ],
   "source": [
    "train_generator = train_datagen.flow_from_directory(\n",
    "    'ramen_sushi/train/',\n",
    "    target_size=(100,100),\n",
    "    batch_size=32,\n",
    "    class_mode='binary',\n",
    "    shuffle=True,\n",
    "    seed=42\n",
    ")"
   ]
  },
  {
   "cell_type": "code",
   "execution_count": 5,
   "id": "8f3ab927-81fd-4300-b34c-826ada1925c5",
   "metadata": {},
   "outputs": [
    {
     "name": "stdout",
     "output_type": "stream",
     "text": [
      "Found 500 images belonging to 2 classes.\n"
     ]
    }
   ],
   "source": [
    "test_generator = test_datagen.flow_from_directory(\n",
    "    'ramen_sushi/test/',\n",
    "    target_size=(100,100),\n",
    "    batch_size=32,\n",
    "    class_mode='binary',\n",
    "    shuffle=True,\n",
    "    seed=42\n",
    ")"
   ]
  },
  {
   "cell_type": "markdown",
   "id": "dcdcdd14-0204-4bf8-b858-51d4e5b01f73",
   "metadata": {},
   "source": [
    "```\n",
    "Build and Train a Sequential Model\n",
    "Define Data Augmentation Parameters:\n",
    "\n",
    "Set rotation range to 40 degrees for random rotations.\n",
    "Set width shift range to 20% of the total width for horizontal shifts.\n",
    "Set height shift range to 20% of the total height for vertical shifts.\n",
    "Set shear range to 0.2 for shearing transformations.\n",
    "Set zoom range to 0.2 for zooming inside pictures.\n",
    "Enable random horizontal flipping.\n",
    "Set fill mode to 'nearest' for filling new pixels.\n",
    "Define the Sequential Model:\n",
    "\n",
    "Layer 1: Add a Conv2D layer with 10 filters, a 3x3 kernel size, stride 1, valid padding, ReLU activation, and input shape (100, 100, 3).\n",
    "Layer 2: Add a MaxPooling2D layer with a 2x2 pool size.\n",
    "Layer 3: Add a Dropout layer with a 20% dropout rate.\n",
    "Layer 4: Add another Conv2D layer with 10 filters, a 3x3 kernel size, and ReLU activation.\n",
    "Layer 5: Add another MaxPooling2D layer with a 2x2 pool size.\n",
    "Layer 6: Add another Dropout layer with a 20% dropout rate.\n",
    "Layer 7: Add a Flatten layer.\n",
    "Layer 8: Add a Dense layer with 32 units and ReLU activation.\n",
    "Layer 9: Add another Dropout layer with a 20% dropout rate.\n",
    "Output Layer: Add a Dense layer with 1 unit and sigmoid activation.\n",
    "Compile the Model:\n",
    "\n",
    "Use RMSprop as the optimizer with a learning rate of 0.001.\n",
    "Set the loss function to 'binary_crossentropy'.\n",
    "Track 'accuracy' as a metric.\n",
    "Train the Model:\n",
    "\n",
    "Use train_generator for training data.\n",
    "Set the number of epochs to 10.\n",
    "Use test_generator for validation data.\n",
    "Optionally, include callbacks.\n",
    "Display the Model's architecture\n",
    "\n",
    "DisplayModelSummary: model.summary()\n",
    "```"
   ]
  },
  {
   "cell_type": "code",
   "execution_count": 6,
   "id": "d0e088e0-d166-4d7c-9093-6d5a7b90c3f7",
   "metadata": {},
   "outputs": [],
   "source": [
    "from tensorflow.keras.optimizers import RMSprop\n",
    "\n",
    "class MyCallback(tf.keras.callbacks.Callback):\n",
    "    def on_epoch_end(self, epoch, logs={}):\n",
    "        if(logs.get('accuracy') > 0.9):\n",
    "            print(\"\\nAccuray is at 90%, stopping training.\")\n",
    "            self.model.stop_training = True\n",
    "\n",
    "\n",
    "callbacks = MyCallback()"
   ]
  },
  {
   "cell_type": "code",
   "execution_count": 7,
   "id": "6c8f9fb1-5b29-4357-9546-faa2630677b4",
   "metadata": {},
   "outputs": [],
   "source": [
    "\n",
    "model = tf.keras.Sequential([\n",
    "    tf.keras.layers.Conv2D(filters=10,\n",
    "                           kernel_size=(3, 3),\n",
    "                           activation='relu',\n",
    "                           input_shape=(100, 100, 3)), \n",
    "    tf.keras.layers.MaxPooling2D(2, 2),\n",
    "    tf.keras.layers.Dropout(0.2),  \n",
    "\n",
    "    tf.keras.layers.Conv2D(10, (3, 3), activation='relu'),\n",
    "    tf.keras.layers.MaxPooling2D(2, 2),\n",
    "    tf.keras.layers.Dropout(0.2),\n",
    "\n",
    "    tf.keras.layers.Flatten(),\n",
    "    tf.keras.layers.Dense(32, activation='relu'),\n",
    "    tf.keras.layers.Dropout(0.2),\n",
    "\n",
    "    tf.keras.layers.Dense(1, activation='sigmoid')\n",
    "])\n",
    "\n"
   ]
  },
  {
   "cell_type": "code",
   "execution_count": 10,
   "id": "e54fac0e-fbd0-4458-8099-f4bc7292a8b1",
   "metadata": {},
   "outputs": [
    {
     "name": "stderr",
     "output_type": "stream",
     "text": [
      "WARNING:absl:At this time, the v2.11+ optimizer `tf.keras.optimizers.RMSprop` runs slowly on M1/M2 Macs, please use the legacy Keras optimizer instead, located at `tf.keras.optimizers.legacy.RMSprop`.\n",
      "WARNING:absl:There is a known slowdown when using v2.11+ Keras optimizers on M1/M2 Macs. Falling back to the legacy Keras optimizer, i.e., `tf.keras.optimizers.legacy.RMSprop`.\n"
     ]
    },
    {
     "name": "stdout",
     "output_type": "stream",
     "text": [
      "Epoch 1/10\n"
     ]
    },
    {
     "name": "stderr",
     "output_type": "stream",
     "text": [
      "2024-06-03 09:29:08.064572: I tensorflow/core/common_runtime/executor.cc:1197] [/device:CPU:0] (DEBUG INFO) Executor start aborting (this does not indicate an error and you can ignore this message): INVALID_ARGUMENT: You must feed a value for placeholder tensor 'Placeholder/_0' with dtype int32\n",
      "\t [[{{node Placeholder/_0}}]]\n"
     ]
    },
    {
     "name": "stdout",
     "output_type": "stream",
     "text": [
      "47/47 [==============================] - ETA: 0s - loss: 0.3577 - accuracy: 0.8440"
     ]
    },
    {
     "name": "stderr",
     "output_type": "stream",
     "text": [
      "2024-06-03 09:29:10.803195: I tensorflow/core/common_runtime/executor.cc:1197] [/device:CPU:0] (DEBUG INFO) Executor start aborting (this does not indicate an error and you can ignore this message): INVALID_ARGUMENT: You must feed a value for placeholder tensor 'Placeholder/_0' with dtype int32\n",
      "\t [[{{node Placeholder/_0}}]]\n"
     ]
    },
    {
     "name": "stdout",
     "output_type": "stream",
     "text": [
      "47/47 [==============================] - 4s 71ms/step - loss: 0.3577 - accuracy: 0.8440 - val_loss: 0.5076 - val_accuracy: 0.7800\n",
      "Epoch 2/10\n",
      "47/47 [==============================] - 3s 70ms/step - loss: 0.3089 - accuracy: 0.8700 - val_loss: 0.6337 - val_accuracy: 0.6880\n",
      "Epoch 3/10\n",
      "47/47 [==============================] - 3s 69ms/step - loss: 0.2809 - accuracy: 0.8793 - val_loss: 0.6103 - val_accuracy: 0.7360\n",
      "Epoch 4/10\n",
      "47/47 [==============================] - 3s 70ms/step - loss: 0.2741 - accuracy: 0.8820 - val_loss: 0.6056 - val_accuracy: 0.7460\n",
      "Epoch 5/10\n",
      "46/47 [============================>.] - ETA: 0s - loss: 0.2448 - accuracy: 0.9033\n",
      "Accuray is at 90%, stopping training.\n",
      "47/47 [==============================] - 3s 71ms/step - loss: 0.2437 - accuracy: 0.9033 - val_loss: 0.5912 - val_accuracy: 0.7500\n",
      "Model: \"sequential\"\n",
      "_________________________________________________________________\n",
      " Layer (type)                Output Shape              Param #   \n",
      "=================================================================\n",
      " conv2d (Conv2D)             (None, 98, 98, 10)        280       \n",
      "                                                                 \n",
      " max_pooling2d (MaxPooling2D  (None, 49, 49, 10)       0         \n",
      " )                                                               \n",
      "                                                                 \n",
      " dropout (Dropout)           (None, 49, 49, 10)        0         \n",
      "                                                                 \n",
      " conv2d_1 (Conv2D)           (None, 47, 47, 10)        910       \n",
      "                                                                 \n",
      " max_pooling2d_1 (MaxPooling  (None, 23, 23, 10)       0         \n",
      " 2D)                                                             \n",
      "                                                                 \n",
      " dropout_1 (Dropout)         (None, 23, 23, 10)        0         \n",
      "                                                                 \n",
      " flatten (Flatten)           (None, 5290)              0         \n",
      "                                                                 \n",
      " dense (Dense)               (None, 32)                169312    \n",
      "                                                                 \n",
      " dropout_2 (Dropout)         (None, 32)                0         \n",
      "                                                                 \n",
      " dense_1 (Dense)             (None, 1)                 33        \n",
      "                                                                 \n",
      "=================================================================\n",
      "Total params: 170,535\n",
      "Trainable params: 170,535\n",
      "Non-trainable params: 0\n",
      "_________________________________________________________________\n"
     ]
    }
   ],
   "source": [
    "model.compile(optimizer=RMSprop(learning_rate=0.001), \n",
    "              loss='binary_crossentropy',\n",
    "              metrics=['accuracy'])\n",
    "\n",
    "\n",
    "history = model.fit(\n",
    "    train_generator,\n",
    "    epochs=10,\n",
    "    validation_data=test_generator, callbacks=[callbacks])  \n",
    "\n",
    "\n",
    "model.summary()"
   ]
  },
  {
   "cell_type": "code",
   "execution_count": 9,
   "id": "c99455ff-4c61-4548-8a37-6fff02727ba0",
   "metadata": {},
   "outputs": [
    {
     "name": "stdout",
     "output_type": "stream",
     "text": [
      "Epoch 1/10\n"
     ]
    },
    {
     "name": "stderr",
     "output_type": "stream",
     "text": [
      "2024-06-03 09:27:57.821797: I tensorflow/core/common_runtime/executor.cc:1197] [/device:CPU:0] (DEBUG INFO) Executor start aborting (this does not indicate an error and you can ignore this message): INVALID_ARGUMENT: You must feed a value for placeholder tensor 'Placeholder/_0' with dtype int32\n",
      "\t [[{{node Placeholder/_0}}]]\n",
      "2024-06-03 09:27:57.825137: W tensorflow/tsl/platform/profile_utils/cpu_utils.cc:128] Failed to get CPU frequency: 0 Hz\n"
     ]
    },
    {
     "name": "stdout",
     "output_type": "stream",
     "text": [
      "47/47 [==============================] - 3s 50ms/step - loss: 0.6594 - accuracy: 0.5973\n",
      "Epoch 2/10\n",
      "47/47 [==============================] - 2s 51ms/step - loss: 0.5925 - accuracy: 0.6967\n",
      "Epoch 3/10\n",
      "47/47 [==============================] - 2s 51ms/step - loss: 0.5228 - accuracy: 0.7413\n",
      "Epoch 4/10\n",
      "47/47 [==============================] - 2s 53ms/step - loss: 0.5049 - accuracy: 0.7693\n",
      "Epoch 5/10\n",
      "47/47 [==============================] - 2s 51ms/step - loss: 0.4573 - accuracy: 0.7867\n",
      "Epoch 6/10\n",
      "47/47 [==============================] - 2s 51ms/step - loss: 0.4516 - accuracy: 0.7993\n",
      "Epoch 7/10\n",
      "47/47 [==============================] - 2s 51ms/step - loss: 0.4328 - accuracy: 0.8013\n",
      "Epoch 8/10\n",
      "47/47 [==============================] - 2s 51ms/step - loss: 0.3924 - accuracy: 0.8233\n",
      "Epoch 9/10\n",
      "47/47 [==============================] - 2s 51ms/step - loss: 0.3669 - accuracy: 0.8387\n",
      "Epoch 10/10\n",
      "47/47 [==============================] - 2s 51ms/step - loss: 0.3581 - accuracy: 0.8293\n"
     ]
    }
   ],
   "source": [
    "history = model.fit(\n",
    "    train_generator,\n",
    "    epochs=10)  \n"
   ]
  },
  {
   "cell_type": "code",
   "execution_count": 12,
   "id": "7b329fc8-850e-49c6-8fdb-b56582f1594a",
   "metadata": {},
   "outputs": [
    {
     "data": {
      "text/plain": [
       "<Axes: >"
      ]
     },
     "execution_count": 12,
     "metadata": {},
     "output_type": "execute_result"
    },
    {
     "data": {
      "image/png": "[encoded data removed]",
      "text/plain": [
       "<Figure size 1000x700 with 1 Axes>"
      ]
     },
     "metadata": {},
     "output_type": "display_data"
    }
   ],
   "source": [
    "import pandas as pd\n",
    "pd.DataFrame(history.history).plot(figsize=(10,7))"
   ]
  },
  {
   "cell_type": "code",
   "execution_count": null,
   "id": "d70ba4cc-09d4-461d-9dfa-0423b3f38e91",
   "metadata": {},
   "outputs": [],
   "source": []
  }
 ],
 "metadata": {
  "kernelspec": {
   "display_name": "Python 3 (ipykernel)",
   "language": "python",
   "name": "python3"
  },
  "language_info": {
   "codemirror_mode": {
    "name": "ipython",
    "version": 3
   },
   "file_extension": ".py",
   "mimetype": "text/x-python",
   "name": "python",
   "nbconvert_exporter": "python",
   "pygments_lexer": "ipython3",
   "version": "3.11.5"
  }
 },
 "nbformat": 4,
 "nbformat_minor": 5
}
