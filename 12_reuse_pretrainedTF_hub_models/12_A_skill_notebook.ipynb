{
 "cells": [
  {
   "cell_type": "code",
   "execution_count": 3,
   "id": "199de5f4-d2d7-47d7-a788-576ca1cb0477",
   "metadata": {},
   "outputs": [
    {
     "name": "stdout",
     "output_type": "stream",
     "text": [
      "Cloning into 'ml_datasets'...\n",
      "remote: Enumerating objects: 38081, done.\u001b[K\n",
      "remote: Counting objects: 100% (13077/13077), done.\u001b[K\n",
      "remote: Compressing objects: 100% (13072/13072), done.\u001b[K\n",
      "remote: Total 38081 (delta 7), reused 13064 (delta 0), pack-reused 25004\u001b[K\n",
      "Receiving objects: 100% (38081/38081), 1.14 GiB | 2.21 MiB/s, done.\n",
      "Resolving deltas: 100% (9/9), done.\n",
      "Updating files: 100% (39804/39804), done.\n"
     ]
    }
   ],
   "source": [
    "!git clone https://github.com/cbtn-data-science-ml/ml_datasets.git"
   ]
  },
  {
   "cell_type": "code",
   "execution_count": 7,
   "id": "57485f11-e64f-48e9-8b50-84dba76d0e07",
   "metadata": {},
   "outputs": [],
   "source": [
    "dataset_path = 'reduced_dataset'"
   ]
  },
  {
   "cell_type": "code",
   "execution_count": 8,
   "id": "4ce701cc-5dc6-45bd-8e02-68e96b280930",
   "metadata": {},
   "outputs": [
    {
     "data": {
      "text/plain": [
       "'/Users/barrios/Desktop/GitHub/tensorflow-professional-developer/12_reuse_pretrainedTF_hub_models'"
      ]
     },
     "execution_count": 8,
     "metadata": {},
     "output_type": "execute_result"
    }
   ],
   "source": [
    "%pwd"
   ]
  },
  {
   "cell_type": "code",
   "execution_count": 11,
   "id": "e7c0690b-760c-4eb9-ab66-d20a58dcea4d",
   "metadata": {},
   "outputs": [],
   "source": [
    "import os\n",
    "os.chdir('ml_datasets')"
   ]
  },
  {
   "cell_type": "code",
   "execution_count": 12,
   "id": "173ce191-c3a7-4858-a015-c2b90d38b2de",
   "metadata": {},
   "outputs": [
    {
     "data": {
      "text/plain": [
       "'/Users/barrios/Desktop/GitHub/tensorflow-professional-developer/12_reuse_pretrainedTF_hub_models/ml_datasets'"
      ]
     },
     "execution_count": 12,
     "metadata": {},
     "output_type": "execute_result"
    }
   ],
   "source": [
    "%pwd"
   ]
  },
  {
   "cell_type": "code",
   "execution_count": 13,
   "id": "586d273c-f3a2-4268-9632-1b8dc487e6b8",
   "metadata": {},
   "outputs": [
    {
     "name": "stdout",
     "output_type": "stream",
     "text": [
      "README.md          \u001b[34mfood_10\u001b[m\u001b[m/           \u001b[34mreduced_dataset\u001b[m\u001b[m/\n",
      "\u001b[34mcats_vs_dogs\u001b[m\u001b[m/      \u001b[34mramen_sushi\u001b[m\u001b[m/       \u001b[34mwaffles_or_nachos\u001b[m\u001b[m/\n"
     ]
    }
   ],
   "source": [
    "%ls"
   ]
  },
  {
   "cell_type": "code",
   "execution_count": 14,
   "id": "d5f66df6-db20-4144-88db-ae728a49d735",
   "metadata": {},
   "outputs": [],
   "source": [
    "import tensorflow as tf\n",
    "from keras.preprocessing.image import ImageDataGenerator"
   ]
  },
  {
   "cell_type": "code",
   "execution_count": 15,
   "id": "faafa7fa-15e7-475c-92da-7237ab7c41a6",
   "metadata": {},
   "outputs": [],
   "source": [
    "IMAGE_SHAPE = (224, 224)\n",
    "BATCH_SIZE = 32"
   ]
  },
  {
   "cell_type": "code",
   "execution_count": 17,
   "id": "fa2a2f8c-06b3-4f1a-a718-f131e35cafd6",
   "metadata": {},
   "outputs": [],
   "source": [
    "# setup train/test datagens\n",
    "train_datagen = ImageDataGenerator(\n",
    "    rescale = 1./255\n",
    ")\n",
    "\n",
    "test_datagen = ImageDataGenerator(\n",
    "    rescale = 1./255\n",
    ")"
   ]
  },
  {
   "cell_type": "code",
   "execution_count": 18,
   "id": "2cc8e5e1-8cc3-4600-8a44-22f24646c141",
   "metadata": {},
   "outputs": [
    {
     "name": "stdout",
     "output_type": "stream",
     "text": [
      "Found 800 images belonging to 10 classes.\n",
      "Found 2000 images belonging to 10 classes.\n"
     ]
    }
   ],
   "source": [
    "# train/test generators\n",
    "train_generator = train_datagen.flow_from_directory(\n",
    "    dataset_path,\n",
    "    target_size=IMAGE_SHAPE,\n",
    "    batch_size=BATCH_SIZE,\n",
    "    class_mode='categorical'\n",
    ")\n",
    "test_generator = train_datagen.flow_from_directory(\n",
    "    'food_10/test',\n",
    "    target_size=IMAGE_SHAPE,\n",
    "    batch_size=BATCH_SIZE,\n",
    "    class_mode='categorical'\n",
    ")"
   ]
  }
 ],
 "metadata": {
  "kernelspec": {
   "display_name": "Python 3 (ipykernel)",
   "language": "python",
   "name": "python3"
  },
  "language_info": {
   "codemirror_mode": {
    "name": "ipython",
    "version": 3
   },
   "file_extension": ".py",
   "mimetype": "text/x-python",
   "name": "python",
   "nbconvert_exporter": "python",
   "pygments_lexer": "ipython3",
   "version": "3.11.5"
  }
 },
 "nbformat": 4,
 "nbformat_minor": 5
}
