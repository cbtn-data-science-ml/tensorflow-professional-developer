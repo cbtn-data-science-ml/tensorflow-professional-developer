{
 "cells": [
  {
   "cell_type": "code",
   "execution_count": 1,
   "id": "46a75bd5-3a3b-4f00-ad51-2bc9f11b2444",
   "metadata": {},
   "outputs": [
    {
     "name": "stdout",
     "output_type": "stream",
     "text": [
      "Cloning into 'ml_datasets'...\n",
      "remote: Enumerating objects: 38049, done.\u001b[K\n",
      "remote: Counting objects: 100% (13045/13045), done.\u001b[K\n",
      "remote: Compressing objects: 100% (13042/13042), done.\u001b[K\n",
      "remote: Total 38049 (delta 4), reused 13041 (delta 0), pack-reused 25004\u001b[K\n",
      "Receiving objects: 100% (38049/38049), 1.14 GiB | 3.31 MiB/s, done.\n",
      "Resolving deltas: 100% (6/6), done.\n",
      "Updating files: 100% (39004/39004), done.\n"
     ]
    }
   ],
   "source": [
    "!git clone https://github.com/cbtn-data-science-ml/ml_datasets.git"
   ]
  },
  {
   "cell_type": "code",
   "execution_count": 4,
   "id": "90d4de5d-2208-4fbf-bc3a-e865d3499582",
   "metadata": {},
   "outputs": [],
   "source": [
    "import os\n",
    "import tensorflow as tf\n",
    "from tensorflow.keras.preprocessing.image import ImageDataGenerator\n",
    "from tensorflow.keras.optimizers import RMSprop\n",
    "import matplotlib.pyplot as plt"
   ]
  },
  {
   "cell_type": "code",
   "execution_count": 5,
   "id": "4311a9a4-66c9-4c45-85c7-ac30e2940358",
   "metadata": {},
   "outputs": [
    {
     "data": {
      "text/plain": [
       "'/Users/barrios/Desktop/GitHub/tensorflow-professional-developer/09_participate_kaggle_competition'"
      ]
     },
     "execution_count": 5,
     "metadata": {},
     "output_type": "execute_result"
    }
   ],
   "source": [
    "%pwd"
   ]
  },
  {
   "cell_type": "code",
   "execution_count": 35,
   "id": "b0f3c1d0-d77b-47db-9d0f-7d69c36470cf",
   "metadata": {},
   "outputs": [],
   "source": [
    "base_dir = 'cats_vs_dogs/'"
   ]
  },
  {
   "cell_type": "code",
   "execution_count": 22,
   "id": "374caf87-a824-40b8-af2d-f20111ca1449",
   "metadata": {},
   "outputs": [],
   "source": [
    "os.chdir('ml_datasets')"
   ]
  },
  {
   "cell_type": "code",
   "execution_count": 23,
   "id": "bf1b8a47-fc61-45d7-a167-4ab91161df94",
   "metadata": {},
   "outputs": [
    {
     "data": {
      "text/plain": [
       "'/Users/barrios/Desktop/GitHub/tensorflow-professional-developer/09_participate_kaggle_competition/ml_datasets'"
      ]
     },
     "execution_count": 23,
     "metadata": {},
     "output_type": "execute_result"
    }
   ],
   "source": [
    "%pwd"
   ]
  },
  {
   "cell_type": "code",
   "execution_count": 24,
   "id": "394d4ecc-c6ea-4ff0-9aa6-861ea626f1a7",
   "metadata": {},
   "outputs": [
    {
     "name": "stdout",
     "output_type": "stream",
     "text": [
      "README.md          \u001b[34mfood_10\u001b[m\u001b[m/           \u001b[34mwaffles_or_nachos\u001b[m\u001b[m/\n",
      "\u001b[34mcats_vs_dogs\u001b[m\u001b[m/      \u001b[34mramen_sushi\u001b[m\u001b[m/\n"
     ]
    }
   ],
   "source": [
    "%ls"
   ]
  },
  {
   "cell_type": "code",
   "execution_count": 25,
   "id": "bdb62061-1ade-4fdf-8b22-59f57f42c799",
   "metadata": {},
   "outputs": [
    {
     "data": {
      "text/plain": [
       "'/Users/barrios/Desktop/GitHub/tensorflow-professional-developer/09_participate_kaggle_competition/ml_datasets'"
      ]
     },
     "execution_count": 25,
     "metadata": {},
     "output_type": "execute_result"
    }
   ],
   "source": [
    "%pwd"
   ]
  },
  {
   "cell_type": "code",
   "execution_count": 36,
   "id": "dc3fcef0-bf08-47ae-afc1-5fc860964c7f",
   "metadata": {},
   "outputs": [],
   "source": [
    "train_path = os.path.join(base_dir, 'train')"
   ]
  },
  {
   "cell_type": "code",
   "execution_count": 37,
   "id": "f8eb2830-46b0-4b87-9c6e-853bd7f701ed",
   "metadata": {},
   "outputs": [],
   "source": [
    "test_path = os.path.join(base_dir, 'test')"
   ]
  },
  {
   "cell_type": "code",
   "execution_count": 38,
   "id": "77c215f4-62d9-4ff5-97d9-310970b96bb8",
   "metadata": {},
   "outputs": [
    {
     "data": {
      "text/plain": [
       "'cats_vs_dogs/train'"
      ]
     },
     "execution_count": 38,
     "metadata": {},
     "output_type": "execute_result"
    }
   ],
   "source": [
    "train_path"
   ]
  },
  {
   "cell_type": "code",
   "execution_count": 39,
   "id": "627dbb6a-425b-4787-9e12-ad7aec1e53cf",
   "metadata": {},
   "outputs": [
    {
     "data": {
      "text/plain": [
       "'cats_vs_dogs/test'"
      ]
     },
     "execution_count": 39,
     "metadata": {},
     "output_type": "execute_result"
    }
   ],
   "source": [
    "test_path"
   ]
  },
  {
   "cell_type": "code",
   "execution_count": 40,
   "id": "64848968-338e-410a-9881-f2a479540384",
   "metadata": {},
   "outputs": [],
   "source": [
    "train_datagen = ImageDataGenerator(rescale=1./255) # data_augmentation\n",
    "test_datagen = ImageDataGenerator(rescale=1./255)"
   ]
  },
  {
   "cell_type": "code",
   "execution_count": 41,
   "id": "3f3cfba6-f4d0-4502-9a1d-1d81486163f9",
   "metadata": {},
   "outputs": [
    {
     "name": "stdout",
     "output_type": "stream",
     "text": [
      "Found 20000 images belonging to 2 classes.\n"
     ]
    }
   ],
   "source": [
    "train_generator = train_datagen.flow_from_directory(\n",
    "    train_path,\n",
    "    target_size=(150,150),\n",
    "    batch_size=32,\n",
    "    class_mode='binary'\n",
    ")"
   ]
  },
  {
   "cell_type": "code",
   "execution_count": 42,
   "id": "bf1a60eb-d622-4b39-b2d4-07ed5b691fda",
   "metadata": {},
   "outputs": [
    {
     "name": "stdout",
     "output_type": "stream",
     "text": [
      "Found 5000 images belonging to 2 classes.\n"
     ]
    }
   ],
   "source": [
    "test_generator = test_datagen.flow_from_directory(\n",
    "    test_path,\n",
    "    target_size=(150,150),\n",
    "    batch_size=32,\n",
    "    class_mode='binary'\n",
    ")"
   ]
  },
  {
   "cell_type": "code",
   "execution_count": null,
   "id": "a59a9222-ee1c-4464-91e9-9ae05fe565d2",
   "metadata": {},
   "outputs": [],
   "source": [
    "# Custom Class Improve Performace"
   ]
  },
  {
   "cell_type": "code",
   "execution_count": null,
   "id": "a1cef79a-04e7-4374-b344-9345cc4b0c1a",
   "metadata": {},
   "outputs": [],
   "source": [
    "# Define Model"
   ]
  },
  {
   "cell_type": "code",
   "execution_count": null,
   "id": "f73f7cdd-3a9d-4c86-ad14-6f45bc51752c",
   "metadata": {},
   "outputs": [],
   "source": [
    "# Compile Model"
   ]
  },
  {
   "cell_type": "code",
   "execution_count": null,
   "id": "33b8f30c-8f90-4f79-a9f9-76ce25f2dd39",
   "metadata": {},
   "outputs": [],
   "source": [
    "# Train Model"
   ]
  },
  {
   "cell_type": "code",
   "execution_count": null,
   "id": "98909ff9-00f0-48ad-bc60-963f3c025f83",
   "metadata": {},
   "outputs": [],
   "source": [
    "# Plot Loss and Accuracy Curves"
   ]
  },
  {
   "cell_type": "code",
   "execution_count": null,
   "id": "2edc3c8a-daca-448a-9db2-03d3c4230cee",
   "metadata": {},
   "outputs": [],
   "source": [
    "# > 75% Val_Accuracy amd NOT overfitting"
   ]
  }
 ],
 "metadata": {
  "kernelspec": {
   "display_name": "Python 3 (ipykernel)",
   "language": "python",
   "name": "python3"
  },
  "language_info": {
   "codemirror_mode": {
    "name": "ipython",
    "version": 3
   },
   "file_extension": ".py",
   "mimetype": "text/x-python",
   "name": "python",
   "nbconvert_exporter": "python",
   "pygments_lexer": "ipython3",
   "version": "3.11.5"
  }
 },
 "nbformat": 4,
 "nbformat_minor": 5
}
