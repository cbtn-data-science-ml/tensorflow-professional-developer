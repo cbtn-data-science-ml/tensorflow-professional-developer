{
 "cells": [
  {
   "cell_type": "code",
   "execution_count": 6,
   "id": "ececfb72-c3b4-4ba7-aa82-415588bc104c",
   "metadata": {},
   "outputs": [],
   "source": [
    "import os\n",
    "import shutil\n",
    "import random"
   ]
  },
  {
   "cell_type": "code",
   "execution_count": 7,
   "id": "77db9301-f423-4487-8c26-010ff48abd36",
   "metadata": {},
   "outputs": [],
   "source": [
    "base_dir = '/Users/barrios/Desktop/dogs-vs-cats'\n",
    "\n",
    "source_dir = os.path.join(base_dir, 'PetImages')"
   ]
  },
  {
   "cell_type": "code",
   "execution_count": 8,
   "id": "afdac5c3-dd91-4f47-99dd-bc81e09b97fe",
   "metadata": {},
   "outputs": [],
   "source": [
    "train_cats_dir = os.path.join(base_dir, 'train')\n",
    "test_cats_dir = os.path.join(base_dir, 'test')\n",
    "train_dogs_dir = os.path.join(base_dir, 'train')\n",
    "test_dogs_dir = os.path.join(base_dir, 'test')"
   ]
  },
  {
   "cell_type": "code",
   "execution_count": 9,
   "id": "c94ddc00-3762-4b10-95c7-3217c4df2273",
   "metadata": {},
   "outputs": [],
   "source": [
    "os.makedirs(train_cats_dir ,exist_ok=True)\n",
    "os.makedirs(test_cats_dir ,exist_ok=True)\n",
    "os.makedirs(train_dogs_dir ,exist_ok=True)\n",
    "os.makedirs(test_dogs_dir ,exist_ok=True)"
   ]
  },
  {
   "cell_type": "code",
   "execution_count": 10,
   "id": "bc0e54c8-4960-4ce9-8b36-eee3a40553ce",
   "metadata": {},
   "outputs": [],
   "source": [
    "def split_and_move_data(source, train_dir, test_dir, split_size, animal_prefix):\n",
    "    files = [file for file in os.listdir(source) if file.startswith(animal_prefix)]\n",
    "    random.shuffle(files)\n",
    "\n",
    "    split_point = int(len(files) * split_size)\n",
    "    train_files = files[:split_point]\n",
    "    test_files = files[split_point:]\n",
    "\n",
    "    \n",
    "    for file in train_files:\n",
    "        shutil.move(os.path.join(source, file), train_dir)\n",
    "    \n",
    "    for file in test_files:\n",
    "        shutil.move(os.path.join(source, file), test_dir)\n",
    "\n",
    "split_size = 0.8\n",
    "split_and_move_data(source_dir, train_cats_dir, test_cats_dir, split_size, 'cat')\n",
    "split_and_move_data(source_dir, train_dogs_dir, test_dogs_dir, split_size, 'dog')"
   ]
  }
 ],
 "metadata": {
  "kernelspec": {
   "display_name": "Python 3 (ipykernel)",
   "language": "python",
   "name": "python3"
  },
  "language_info": {
   "codemirror_mode": {
    "name": "ipython",
    "version": 3
   },
   "file_extension": ".py",
   "mimetype": "text/x-python",
   "name": "python",
   "nbconvert_exporter": "python",
   "pygments_lexer": "ipython3",
   "version": "3.11.5"
  }
 },
 "nbformat": 4,
 "nbformat_minor": 5
}
