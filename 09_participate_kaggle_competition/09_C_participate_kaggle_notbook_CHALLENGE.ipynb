{
 "cells": [
  {
   "cell_type": "code",
   "execution_count": 1,
   "id": "46a75bd5-3a3b-4f00-ad51-2bc9f11b2444",
   "metadata": {},
   "outputs": [
    {
     "name": "stdout",
     "output_type": "stream",
     "text": [
      "fatal: destination path 'ml_datasets' already exists and is not an empty directory.\n"
     ]
    }
   ],
   "source": [
    "!git clone https://github.com/cbtn-data-science-ml/ml_datasets.git"
   ]
  },
  {
   "cell_type": "code",
   "execution_count": 6,
   "id": "90d4de5d-2208-4fbf-bc3a-e865d3499582",
   "metadata": {},
   "outputs": [],
   "source": [
    "import os\n",
    "import tensorflow as tf\n",
    "from tensorflow.keras.preprocessing.image import ImageDataGenerator\n",
    "from tensorflow.keras.optimizers import RMSprop\n",
    "import matplotlib.pyplot as plt"
   ]
  },
  {
   "cell_type": "code",
   "execution_count": 7,
   "id": "4311a9a4-66c9-4c45-85c7-ac30e2940358",
   "metadata": {},
   "outputs": [
    {
     "data": {
      "text/plain": [
       "'/Users/barrios/Desktop/GitHub/tensorflow-professional-developer/09_participate_kaggle_competition/ml_datasets'"
      ]
     },
     "execution_count": 7,
     "metadata": {},
     "output_type": "execute_result"
    }
   ],
   "source": [
    "%pwd"
   ]
  },
  {
   "cell_type": "code",
   "execution_count": 8,
   "id": "b0f3c1d0-d77b-47db-9d0f-7d69c36470cf",
   "metadata": {},
   "outputs": [],
   "source": [
    "base_dir = 'cats_vs_dogs/'"
   ]
  },
  {
   "cell_type": "code",
   "execution_count": 9,
   "id": "374caf87-a824-40b8-af2d-f20111ca1449",
   "metadata": {},
   "outputs": [
    {
     "ename": "FileNotFoundError",
     "evalue": "[Errno 2] No such file or directory: 'ml_datasets'",
     "output_type": "error",
     "traceback": [
      "\u001b[0;31m---------------------------------------------------------------------------\u001b[0m",
      "\u001b[0;31mFileNotFoundError\u001b[0m                         Traceback (most recent call last)",
      "Cell \u001b[0;32mIn[9], line 1\u001b[0m\n\u001b[0;32m----> 1\u001b[0m os\u001b[38;5;241m.\u001b[39mchdir(\u001b[38;5;124m'\u001b[39m\u001b[38;5;124mml_datasets\u001b[39m\u001b[38;5;124m'\u001b[39m)\n",
      "\u001b[0;31mFileNotFoundError\u001b[0m: [Errno 2] No such file or directory: 'ml_datasets'"
     ]
    }
   ],
   "source": [
    "os.chdir('ml_datasets')"
   ]
  },
  {
   "cell_type": "code",
   "execution_count": 11,
   "id": "bf1b8a47-fc61-45d7-a167-4ab91161df94",
   "metadata": {},
   "outputs": [
    {
     "data": {
      "text/plain": [
       "'/Users/barrios/Desktop/GitHub/tensorflow-professional-developer/09_participate_kaggle_competition/ml_datasets'"
      ]
     },
     "execution_count": 11,
     "metadata": {},
     "output_type": "execute_result"
    }
   ],
   "source": [
    "%pwd"
   ]
  },
  {
   "cell_type": "code",
   "execution_count": 12,
   "id": "394d4ecc-c6ea-4ff0-9aa6-861ea626f1a7",
   "metadata": {},
   "outputs": [
    {
     "name": "stdout",
     "output_type": "stream",
     "text": [
      "README.md          \u001b[34mfood_10\u001b[m\u001b[m/           \u001b[34mwaffles_or_nachos\u001b[m\u001b[m/\n",
      "\u001b[34mcats_vs_dogs\u001b[m\u001b[m/      \u001b[34mramen_sushi\u001b[m\u001b[m/\n"
     ]
    }
   ],
   "source": [
    "%ls"
   ]
  },
  {
   "cell_type": "code",
   "execution_count": 13,
   "id": "bdb62061-1ade-4fdf-8b22-59f57f42c799",
   "metadata": {},
   "outputs": [
    {
     "data": {
      "text/plain": [
       "'/Users/barrios/Desktop/GitHub/tensorflow-professional-developer/09_participate_kaggle_competition/ml_datasets'"
      ]
     },
     "execution_count": 13,
     "metadata": {},
     "output_type": "execute_result"
    }
   ],
   "source": [
    "%pwd"
   ]
  },
  {
   "cell_type": "code",
   "execution_count": 14,
   "id": "dc3fcef0-bf08-47ae-afc1-5fc860964c7f",
   "metadata": {},
   "outputs": [],
   "source": [
    "train_path = os.path.join(base_dir, 'train')"
   ]
  },
  {
   "cell_type": "code",
   "execution_count": 15,
   "id": "f8eb2830-46b0-4b87-9c6e-853bd7f701ed",
   "metadata": {},
   "outputs": [],
   "source": [
    "test_path = os.path.join(base_dir, 'test')"
   ]
  },
  {
   "cell_type": "code",
   "execution_count": 16,
   "id": "77c215f4-62d9-4ff5-97d9-310970b96bb8",
   "metadata": {},
   "outputs": [
    {
     "data": {
      "text/plain": [
       "'cats_vs_dogs/train'"
      ]
     },
     "execution_count": 16,
     "metadata": {},
     "output_type": "execute_result"
    }
   ],
   "source": [
    "train_path"
   ]
  },
  {
   "cell_type": "code",
   "execution_count": 17,
   "id": "627dbb6a-425b-4787-9e12-ad7aec1e53cf",
   "metadata": {},
   "outputs": [
    {
     "data": {
      "text/plain": [
       "'cats_vs_dogs/test'"
      ]
     },
     "execution_count": 17,
     "metadata": {},
     "output_type": "execute_result"
    }
   ],
   "source": [
    "test_path"
   ]
  },
  {
   "cell_type": "code",
   "execution_count": 28,
   "id": "64848968-338e-410a-9881-f2a479540384",
   "metadata": {},
   "outputs": [],
   "source": [
    "train_datagen = ImageDataGenerator(\n",
    "    rescale=1./255,\n",
    "    rotation_range=40,\n",
    "    width_shift_range=0.2,\n",
    "    height_shift_range=0.2,\n",
    "    shear_range=0.2,\n",
    "    zoom_range=0.2,\n",
    "    horizontal_flip=True,\n",
    "    fill_mode='nearest'\n",
    ") # data_augmentation\n",
    "\n",
    "test_datagen = ImageDataGenerator(rescale=1./255)"
   ]
  },
  {
   "cell_type": "code",
   "execution_count": 29,
   "id": "3f3cfba6-f4d0-4502-9a1d-1d81486163f9",
   "metadata": {},
   "outputs": [
    {
     "name": "stdout",
     "output_type": "stream",
     "text": [
      "Found 20000 images belonging to 2 classes.\n"
     ]
    }
   ],
   "source": [
    "train_generator = train_datagen.flow_from_directory(\n",
    "    train_path,\n",
    "    target_size=(150,150),\n",
    "    batch_size=32,\n",
    "    class_mode='binary'\n",
    ")"
   ]
  },
  {
   "cell_type": "code",
   "execution_count": 30,
   "id": "bf1a60eb-d622-4b39-b2d4-07ed5b691fda",
   "metadata": {},
   "outputs": [
    {
     "name": "stdout",
     "output_type": "stream",
     "text": [
      "Found 5000 images belonging to 2 classes.\n"
     ]
    }
   ],
   "source": [
    "test_generator = test_datagen.flow_from_directory(\n",
    "    test_path,\n",
    "    target_size=(150,150),\n",
    "    batch_size=32,\n",
    "    class_mode='binary'\n",
    ")"
   ]
  },
  {
   "cell_type": "code",
   "execution_count": 31,
   "id": "a59a9222-ee1c-4464-91e9-9ae05fe565d2",
   "metadata": {},
   "outputs": [],
   "source": [
    "# Custom Class Improve Performace\n",
    "class MyCallback(tf.keras.callbacks.Callback):\n",
    "    def on_epoch_end(self, epoch, logs={}):\n",
    "        if(logs.get('accuracy') > 0.8):\n",
    "            print('\\nAccuracy is at or above 80%: STOPPING')\n",
    "            self.model.stop_training = True\n",
    "\n",
    "callbacks = MyCallback()"
   ]
  },
  {
   "cell_type": "code",
   "execution_count": 32,
   "id": "a1cef79a-04e7-4374-b344-9345cc4b0c1a",
   "metadata": {},
   "outputs": [],
   "source": [
    "# Define Model\n",
    "model = tf.keras.Sequential([\n",
    "    tf.keras.layers.Conv2D(64, 3, activation='relu', input_shape=(150, 150, 3)), \n",
    "    tf.keras.layers.MaxPooling2D(2, 2),\n",
    "    tf.keras.layers.Dropout(0.2),  \n",
    "\n",
    "    tf.keras.layers.Conv2D(10, (3, 3), activation='relu'),\n",
    "    tf.keras.layers.MaxPooling2D(2, 2),\n",
    "    tf.keras.layers.Dropout(0.2),\n",
    "\n",
    "    tf.keras.layers.Flatten(),\n",
    "    tf.keras.layers.Dense(32, activation='relu'),\n",
    "    tf.keras.layers.Dropout(0.2),\n",
    "\n",
    "    tf.keras.layers.Dense(1, activation='sigmoid')\n",
    "])"
   ]
  },
  {
   "cell_type": "code",
   "execution_count": 33,
   "id": "f73f7cdd-3a9d-4c86-ad14-6f45bc51752c",
   "metadata": {},
   "outputs": [
    {
     "name": "stderr",
     "output_type": "stream",
     "text": [
      "WARNING:absl:At this time, the v2.11+ optimizer `tf.keras.optimizers.RMSprop` runs slowly on M1/M2 Macs, please use the legacy Keras optimizer instead, located at `tf.keras.optimizers.legacy.RMSprop`.\n",
      "WARNING:absl:There is a known slowdown when using v2.11+ Keras optimizers on M1/M2 Macs. Falling back to the legacy Keras optimizer, i.e., `tf.keras.optimizers.legacy.RMSprop`.\n"
     ]
    }
   ],
   "source": [
    "# Compile Model\n",
    "model.compile(optimizer=RMSprop(learning_rate=0.001), \n",
    "              loss='binary_crossentropy',\n",
    "              metrics=['accuracy'])"
   ]
  },
  {
   "cell_type": "code",
   "execution_count": 34,
   "id": "33b8f30c-8f90-4f79-a9f9-76ce25f2dd39",
   "metadata": {},
   "outputs": [
    {
     "name": "stdout",
     "output_type": "stream",
     "text": [
      "Epoch 1/10\n"
     ]
    },
    {
     "name": "stderr",
     "output_type": "stream",
     "text": [
      "2024-06-06 10:24:53.545568: I tensorflow/core/common_runtime/executor.cc:1197] [/device:CPU:0] (DEBUG INFO) Executor start aborting (this does not indicate an error and you can ignore this message): INVALID_ARGUMENT: You must feed a value for placeholder tensor 'Placeholder/_0' with dtype int32\n",
      "\t [[{{node Placeholder/_0}}]]\n",
      "2024-06-06 10:24:53.548863: W tensorflow/tsl/platform/profile_utils/cpu_utils.cc:128] Failed to get CPU frequency: 0 Hz\n"
     ]
    },
    {
     "name": "stdout",
     "output_type": "stream",
     "text": [
      "625/625 [==============================] - ETA: 0s - loss: 0.6925 - accuracy: 0.5586"
     ]
    },
    {
     "name": "stderr",
     "output_type": "stream",
     "text": [
      "2024-06-06 10:26:08.128264: I tensorflow/core/common_runtime/executor.cc:1197] [/device:CPU:0] (DEBUG INFO) Executor start aborting (this does not indicate an error and you can ignore this message): INVALID_ARGUMENT: You must feed a value for placeholder tensor 'Placeholder/_0' with dtype int32\n",
      "\t [[{{node Placeholder/_0}}]]\n"
     ]
    },
    {
     "name": "stdout",
     "output_type": "stream",
     "text": [
      "625/625 [==============================] - 81s 129ms/step - loss: 0.6925 - accuracy: 0.5586 - val_loss: 0.6260 - val_accuracy: 0.6588\n",
      "Epoch 2/10\n",
      "625/625 [==============================] - 83s 133ms/step - loss: 0.6406 - accuracy: 0.6443 - val_loss: 0.5849 - val_accuracy: 0.6976\n",
      "Epoch 3/10\n",
      "625/625 [==============================] - 84s 134ms/step - loss: 0.6247 - accuracy: 0.6629 - val_loss: 0.5921 - val_accuracy: 0.6994\n",
      "Epoch 4/10\n",
      "625/625 [==============================] - 89s 142ms/step - loss: 0.6083 - accuracy: 0.6773 - val_loss: 0.6138 - val_accuracy: 0.6820\n",
      "Epoch 5/10\n",
      "625/625 [==============================] - 86s 137ms/step - loss: 0.5927 - accuracy: 0.6826 - val_loss: 0.5390 - val_accuracy: 0.7426\n",
      "Epoch 6/10\n",
      "625/625 [==============================] - 83s 133ms/step - loss: 0.5858 - accuracy: 0.6941 - val_loss: 0.5365 - val_accuracy: 0.7338\n",
      "Epoch 7/10\n",
      "625/625 [==============================] - 85s 136ms/step - loss: 0.5799 - accuracy: 0.7010 - val_loss: 0.5422 - val_accuracy: 0.7392\n",
      "Epoch 8/10\n",
      "625/625 [==============================] - 84s 135ms/step - loss: 0.5730 - accuracy: 0.7046 - val_loss: 0.5465 - val_accuracy: 0.7254\n",
      "Epoch 9/10\n",
      "625/625 [==============================] - 84s 135ms/step - loss: 0.5688 - accuracy: 0.7106 - val_loss: 0.5039 - val_accuracy: 0.7610\n",
      "Epoch 10/10\n",
      "625/625 [==============================] - 85s 136ms/step - loss: 0.5652 - accuracy: 0.7093 - val_loss: 0.5502 - val_accuracy: 0.7234\n",
      "Model: \"sequential\"\n",
      "_________________________________________________________________\n",
      " Layer (type)                Output Shape              Param #   \n",
      "=================================================================\n",
      " conv2d (Conv2D)             (None, 148, 148, 64)      1792      \n",
      "                                                                 \n",
      " max_pooling2d (MaxPooling2D  (None, 74, 74, 64)       0         \n",
      " )                                                               \n",
      "                                                                 \n",
      " dropout (Dropout)           (None, 74, 74, 64)        0         \n",
      "                                                                 \n",
      " conv2d_1 (Conv2D)           (None, 72, 72, 10)        5770      \n",
      "                                                                 \n",
      " max_pooling2d_1 (MaxPooling  (None, 36, 36, 10)       0         \n",
      " 2D)                                                             \n",
      "                                                                 \n",
      " dropout_1 (Dropout)         (None, 36, 36, 10)        0         \n",
      "                                                                 \n",
      " flatten (Flatten)           (None, 12960)             0         \n",
      "                                                                 \n",
      " dense (Dense)               (None, 32)                414752    \n",
      "                                                                 \n",
      " dropout_2 (Dropout)         (None, 32)                0         \n",
      "                                                                 \n",
      " dense_1 (Dense)             (None, 1)                 33        \n",
      "                                                                 \n",
      "=================================================================\n",
      "Total params: 422,347\n",
      "Trainable params: 422,347\n",
      "Non-trainable params: 0\n",
      "_________________________________________________________________\n"
     ]
    }
   ],
   "source": [
    "# Train Model\n",
    "history = model.fit(\n",
    "    train_generator,\n",
    "    epochs=10,\n",
    "    validation_data=test_generator, callbacks=[callbacks])  \n",
    "\n",
    "\n",
    "model.summary()"
   ]
  },
  {
   "cell_type": "code",
   "execution_count": 35,
   "id": "98909ff9-00f0-48ad-bc60-963f3c025f83",
   "metadata": {},
   "outputs": [
    {
     "data": {
      "text/plain": [
       "<Axes: >"
      ]
     },
     "execution_count": 35,
     "metadata": {},
     "output_type": "execute_result"
    },
    {
     "data": {
      "image/png": "[encoded data removed]",
      "text/plain": [
       "<Figure size 1000x700 with 1 Axes>"
      ]
     },
     "metadata": {},
     "output_type": "display_data"
    }
   ],
   "source": [
    "# Plot Loss and Accuracy Curves\n",
    "import pandas as pd\n",
    "pd.DataFrame(history.history).plot(figsize=(10,7))"
   ]
  },
  {
   "cell_type": "code",
   "execution_count": null,
   "id": "2edc3c8a-daca-448a-9db2-03d3c4230cee",
   "metadata": {},
   "outputs": [],
   "source": [
    "# > 75% Val_Accuracy amd NOT overfitting"
   ]
  }
 ],
 "metadata": {
  "kernelspec": {
   "display_name": "Python 3 (ipykernel)",
   "language": "python",
   "name": "python3"
  },
  "language_info": {
   "codemirror_mode": {
    "name": "ipython",
    "version": 3
   },
   "file_extension": ".py",
   "mimetype": "text/x-python",
   "name": "python",
   "nbconvert_exporter": "python",
   "pygments_lexer": "ipython3",
   "version": "3.11.5"
  }
 },
 "nbformat": 4,
 "nbformat_minor": 5
}
