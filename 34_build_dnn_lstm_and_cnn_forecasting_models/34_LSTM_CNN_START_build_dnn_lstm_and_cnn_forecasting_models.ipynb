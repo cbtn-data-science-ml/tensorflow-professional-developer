{
 "cells": [
  {
   "cell_type": "markdown",
   "metadata": {
    "id": "YvzbjemGROg3"
   },
   "source": [
    "# DNN, LSTM, and LSTM with CNN"
   ]
  },
  {
   "cell_type": "code",
   "execution_count": null,
   "metadata": {
    "id": "vUvIBvGDg-1D",
    "scrolled": false
   },
   "outputs": [],
   "source": [
    "import matplotlib.pyplot as plt\n",
    "import numpy as np\n",
    "import pandas as pd\n",
    "import tensorflow as tf\n",
    "\n",
    "# Load the sunspots data from GitHub\n",
    "url = 'https://raw.githubusercontent.com/cbtn-data-science-ml/introduction-to-deep-learning/main/sunspots/Sunspots.csv'\n",
    "sunspots_data = pd.read_csv(url, usecols=['Date', 'Monthly Mean Total Sunspot Number'])\n",
    "sunspots_data['Date'] = pd.to_datetime(sunspots_data['Date'])\n",
    "sunspots_series = np.array(sunspots_data['Monthly Mean Total Sunspot Number'])\n",
    "time = np.arange(len(sunspots_series))\n",
    "\n",
    "# Split the data into training and validation sets\n",
    "split_time = # 80% for training, 20% for validation\n",
    "x_train = # Add code here\n",
    "x_valid = # Add code here\n",
    "\n",
    "# Helper function to prepare windowed datasets\n",
    "def windowed_dataset(series, window_size, batch_size):\n",
    "    dataset = # Add code here\n",
    "    dataset = # Add code here\n",
    "    dataset = # Add code here\n",
    "    dataset = # Add code here\n",
    "    dataset = # Add code here\n",
    "    return dataset\n",
    "\n",
    "# Window size and batch size configuration\n",
    "window_size = # Add code here\n",
    "batch_size = # Add code here\n",
    "\n",
    "# Create windowed datasets for both training and validation\n",
    "train_dataset = # Add code here\n",
    "valid_dataset = # Add code here\n",
    "\n",
    "# Define your model\n",
    "\n",
    "\n",
    "# Compile and train the model\n",
    "\n",
    "\n",
    "\n"
   ]
  },
  {
   "cell_type": "code",
   "execution_count": null,
   "metadata": {},
   "outputs": [],
   "source": [
    "# Display the final MAE for training and validation \n",
    "final_train_mae = history.history['mae'][-1]\n",
    "final_val_mae = history.history['val_mae'][-1]\n",
    "print(f\"Final Training MAE: {final_train_mae}\")\n",
    "print(f\"Final Validation MAE: {final_val_mae}\")"
   ]
  },
  {
   "cell_type": "code",
   "execution_count": null,
   "metadata": {},
   "outputs": [],
   "source": []
  }
 ],
 "metadata": {
  "colab": {
   "authorship_tag": "ABX9TyNyptKjUqRfaSXv2v6tfDCS",
   "provenance": []
  },
  "kernelspec": {
   "display_name": "Python 3 (ipykernel)",
   "language": "python",
   "name": "python3"
  },
  "language_info": {
   "codemirror_mode": {
    "name": "ipython",
    "version": 3
   },
   "file_extension": ".py",
   "mimetype": "text/x-python",
   "name": "python",
   "nbconvert_exporter": "python",
   "pygments_lexer": "ipython3",
   "version": "3.11.5"
  }
 },
 "nbformat": 4,
 "nbformat_minor": 1
}
