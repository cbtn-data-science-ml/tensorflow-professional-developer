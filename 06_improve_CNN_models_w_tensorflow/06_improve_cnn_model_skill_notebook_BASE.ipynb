{
 "cells": [
  {
   "cell_type": "code",
   "execution_count": 1,
   "id": "28f8da43-75c1-4a1a-acb5-b0db92162071",
   "metadata": {},
   "outputs": [
    {
     "name": "stdout",
     "output_type": "stream",
     "text": [
      "fatal: destination path 'ml_datasets' already exists and is not an empty directory.\n"
     ]
    }
   ],
   "source": [
    "# git clone ml-datasets\n",
    "!git clone https://github.com/cbtn-data-science-ml/ml_datasets.git"
   ]
  },
  {
   "cell_type": "code",
   "execution_count": 2,
   "id": "31ad845a-018b-419c-b0c1-8c0f44814adb",
   "metadata": {},
   "outputs": [],
   "source": [
    "# imports\n",
    "import os\n",
    "import tensorflow as tf\n",
    "from tensorflow.keras.preprocessing.image import ImageDataGenerator"
   ]
  },
  {
   "cell_type": "code",
   "execution_count": 3,
   "id": "edaa4f11-03e9-4bb7-83d5-2068ea36f769",
   "metadata": {},
   "outputs": [],
   "source": [
    "tf.random.set_seed(42)"
   ]
  },
  {
   "cell_type": "code",
   "execution_count": 4,
   "id": "46f9b1f5-ea21-4db9-8bf4-ba6f654844d7",
   "metadata": {},
   "outputs": [],
   "source": [
    "os.chdir('ml_datasets')"
   ]
  },
  {
   "cell_type": "code",
   "execution_count": 5,
   "id": "b6eb914d-eac8-40c8-8bdf-2ca155740df9",
   "metadata": {},
   "outputs": [
    {
     "data": {
      "text/plain": [
       "'/Users/barrios/Desktop/GitHub/tensorflow-professional-developer/06_improve_CNN_models_w_tensorflow/ml_datasets'"
      ]
     },
     "execution_count": 5,
     "metadata": {},
     "output_type": "execute_result"
    }
   ],
   "source": [
    "%pwd"
   ]
  },
  {
   "cell_type": "code",
   "execution_count": 6,
   "id": "57a4e148-90f4-4baa-ad2e-252674b36011",
   "metadata": {},
   "outputs": [],
   "source": [
    "# data generators (rescale)\n",
    "train_datagen = ImageDataGenerator(rescale=1./255)\n",
    "test_datagen = ImageDataGenerator(rescale=1./255)"
   ]
  },
  {
   "cell_type": "code",
   "execution_count": 7,
   "id": "884163c6-e3a5-4d7b-8e53-c797fb143846",
   "metadata": {},
   "outputs": [
    {
     "name": "stdout",
     "output_type": "stream",
     "text": [
      "Found 1500 images belonging to 2 classes.\n",
      "Found 500 images belonging to 2 classes.\n"
     ]
    }
   ],
   "source": [
    "# train/test generators\n",
    "train_generator = train_datagen.flow_from_directory(\n",
    "    'ramen_sushi/train/',\n",
    "    target_size=(200,200),\n",
    "    batch_size=32,\n",
    "    class_mode='binary',\n",
    "    seed=42\n",
    ")\n",
    "\n",
    "test_generator = test_datagen.flow_from_directory(\n",
    "    'ramen_sushi/test/',\n",
    "    target_size=(200,200),\n",
    "    batch_size=32,\n",
    "    class_mode='binary',\n",
    "    seed=42\n",
    ")"
   ]
  },
  {
   "cell_type": "code",
   "execution_count": 8,
   "id": "cc18f676-2da6-4724-a7c6-fecf0744ee31",
   "metadata": {},
   "outputs": [
    {
     "name": "stdout",
     "output_type": "stream",
     "text": [
      "Epoch 1/10\n"
     ]
    },
    {
     "name": "stderr",
     "output_type": "stream",
     "text": [
      "2024-06-02 08:31:59.565882: I tensorflow/core/common_runtime/executor.cc:1197] [/device:CPU:0] (DEBUG INFO) Executor start aborting (this does not indicate an error and you can ignore this message): INVALID_ARGUMENT: You must feed a value for placeholder tensor 'Placeholder/_0' with dtype int32\n",
      "\t [[{{node Placeholder/_0}}]]\n",
      "2024-06-02 08:31:59.569644: W tensorflow/tsl/platform/profile_utils/cpu_utils.cc:128] Failed to get CPU frequency: 0 Hz\n"
     ]
    },
    {
     "name": "stdout",
     "output_type": "stream",
     "text": [
      "47/47 [==============================] - 3s 52ms/step - loss: 2.7689 - accuracy: 0.5487\n",
      "Epoch 2/10\n",
      "47/47 [==============================] - 2s 52ms/step - loss: 1.4335 - accuracy: 0.6400\n",
      "Epoch 3/10\n",
      "47/47 [==============================] - 2s 52ms/step - loss: 1.4937 - accuracy: 0.6340\n",
      "Epoch 4/10\n",
      "47/47 [==============================] - 3s 53ms/step - loss: 0.8606 - accuracy: 0.7313\n",
      "Epoch 5/10\n",
      "47/47 [==============================] - 2s 51ms/step - loss: 0.7496 - accuracy: 0.7347\n",
      "Epoch 6/10\n",
      "47/47 [==============================] - 2s 50ms/step - loss: 0.5878 - accuracy: 0.7780\n",
      "Epoch 7/10\n",
      "47/47 [==============================] - 2s 51ms/step - loss: 0.7857 - accuracy: 0.7460\n",
      "Epoch 8/10\n",
      "47/47 [==============================] - 2s 51ms/step - loss: 0.5518 - accuracy: 0.7973\n",
      "Epoch 9/10\n",
      "47/47 [==============================] - 2s 50ms/step - loss: 0.4213 - accuracy: 0.8353\n",
      "Epoch 10/10\n",
      "47/47 [==============================] - 2s 50ms/step - loss: 0.4081 - accuracy: 0.8273\n",
      "Model: \"sequential\"\n",
      "_________________________________________________________________\n",
      " Layer (type)                Output Shape              Param #   \n",
      "=================================================================\n",
      " flatten (Flatten)           (None, 120000)            0         \n",
      "                                                                 \n",
      " dense (Dense)               (None, 32)                3840032   \n",
      "                                                                 \n",
      " dense_1 (Dense)             (None, 1)                 33        \n",
      "                                                                 \n",
      "=================================================================\n",
      "Total params: 3,840,065\n",
      "Trainable params: 3,840,065\n",
      "Non-trainable params: 0\n",
      "_________________________________________________________________\n"
     ]
    }
   ],
   "source": [
    "# define, compile, train model\n",
    "model = tf.keras.Sequential([\n",
    "    tf.keras.layers.Flatten(input_shape=(200, 200, 3)),\n",
    "    tf.keras.layers.Dense(32, activation='relu'),\n",
    "    tf.keras.layers.Dense(1, activation='sigmoid')\n",
    "])\n",
    "\n",
    "model.compile(\n",
    "    optimizer='adam',\n",
    "    loss='binary_crossentropy',\n",
    "    metrics=['accuracy']\n",
    ")\n",
    "\n",
    "history = model.fit(\n",
    "    train_generator,\n",
    "    epochs=10\n",
    ")\n",
    "\n",
    "model.summary()"
   ]
  },
  {
   "cell_type": "code",
   "execution_count": null,
   "id": "d110a0dc-73db-4044-aebe-93777ae3fe85",
   "metadata": {},
   "outputs": [],
   "source": []
  }
 ],
 "metadata": {
  "kernelspec": {
   "display_name": "Python 3 (ipykernel)",
   "language": "python",
   "name": "python3"
  },
  "language_info": {
   "codemirror_mode": {
    "name": "ipython",
    "version": 3
   },
   "file_extension": ".py",
   "mimetype": "text/x-python",
   "name": "python",
   "nbconvert_exporter": "python",
   "pygments_lexer": "ipython3",
   "version": "3.11.5"
  }
 },
 "nbformat": 4,
 "nbformat_minor": 5
}
