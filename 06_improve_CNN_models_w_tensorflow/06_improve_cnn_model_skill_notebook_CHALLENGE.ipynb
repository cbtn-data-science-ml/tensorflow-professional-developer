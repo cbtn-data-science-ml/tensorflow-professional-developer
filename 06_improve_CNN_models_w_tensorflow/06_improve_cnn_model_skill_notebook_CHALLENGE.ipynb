{
 "cells": [
  {
   "cell_type": "code",
   "execution_count": 1,
   "id": "28f8da43-75c1-4a1a-acb5-b0db92162071",
   "metadata": {},
   "outputs": [],
   "source": [
    "# git clone ml-datasets\n",
    "!git clone https://github.com/cbtn-data-science-ml/ml_datasets.git"
   ]
  },
  {
   "cell_type": "code",
   "execution_count": 2,
   "id": "31ad845a-018b-419c-b0c1-8c0f44814adb",
   "metadata": {},
   "outputs": [],
   "source": [
    "# imports\n",
    "import os\n",
    "import tensorflow as tf\n",
    "from tensorflow.keras.preprocessing.image import ImageDataGenerator\n",
    "from tensorflow.keras.optimizers import RMSprop"
   ]
  },
  {
   "cell_type": "code",
   "execution_count": 3,
   "id": "edaa4f11-03e9-4bb7-83d5-2068ea36f769",
   "metadata": {},
   "outputs": [],
   "source": [
    "tf.random.set_seed(42)"
   ]
  },
  {
   "cell_type": "code",
   "execution_count": 4,
   "id": "46f9b1f5-ea21-4db9-8bf4-ba6f654844d7",
   "metadata": {},
   "outputs": [],
   "source": [
    "os.chdir('ml_datasets')"
   ]
  },
  {
   "cell_type": "code",
   "execution_count": 5,
   "id": "b6eb914d-eac8-40c8-8bdf-2ca155740df9",
   "metadata": {},
   "outputs": [
    {
     "data": {
      "text/plain": [
       "'/Users/barrios/Desktop/GitHub/tensorflow-professional-developer/06_improve_CNN_models_w_tensorflow/ml_datasets'"
      ]
     },
     "execution_count": 5,
     "metadata": {},
     "output_type": "execute_result"
    }
   ],
   "source": [
    "%pwd"
   ]
  },
  {
   "cell_type": "code",
   "execution_count": 6,
   "id": "57a4e148-90f4-4baa-ad2e-252674b36011",
   "metadata": {},
   "outputs": [],
   "source": [
    "# data generators (rescale)\n",
    "train_datagen = ImageDataGenerator(rescale=1./255)\n",
    "test_datagen = ImageDataGenerator(rescale=1./255)"
   ]
  },
  {
   "cell_type": "code",
   "execution_count": 7,
   "id": "884163c6-e3a5-4d7b-8e53-c797fb143846",
   "metadata": {
    "scrolled": true
   },
   "outputs": [
    {
     "name": "stdout",
     "output_type": "stream",
     "text": [
      "Found 1500 images belonging to 2 classes.\n",
      "Found 500 images belonging to 2 classes.\n"
     ]
    }
   ],
   "source": [
    "# train/test generators\n",
    "train_generator = train_datagen.flow_from_directory(\n",
    "    'ramen_sushi/train/',\n",
    "    target_size=(200,200),\n",
    "    batch_size=32,\n",
    "    class_mode='binary',\n",
    "    seed=42\n",
    ")\n",
    "\n",
    "test_generator = test_datagen.flow_from_directory(\n",
    "    'ramen_sushi/test/',\n",
    "    target_size=(200,200),\n",
    "    batch_size=32,\n",
    "    class_mode='binary',\n",
    "    seed=42\n",
    ")"
   ]
  },
  {
   "cell_type": "code",
   "execution_count": 8,
   "id": "6f2480a2-99c3-4802-88c0-8f88ff1bc299",
   "metadata": {},
   "outputs": [],
   "source": [
    "class MyCallback(tf.keras.callbacks.Callback):\n",
    "    def on_epoch_end(self, epoch, logs={}):\n",
    "        if(logs.get('loss') < 0.2):\n",
    "            print(\"\\nLoss is lower than 0.2: STOPPING\")\n",
    "            self.model.stop_training = True\n",
    "callbacks = MyCallback()"
   ]
  },
  {
   "cell_type": "code",
   "execution_count": 9,
   "id": "cc18f676-2da6-4724-a7c6-fecf0744ee31",
   "metadata": {},
   "outputs": [
    {
     "name": "stderr",
     "output_type": "stream",
     "text": [
      "WARNING:absl:At this time, the v2.11+ optimizer `tf.keras.optimizers.RMSprop` runs slowly on M1/M2 Macs, please use the legacy Keras optimizer instead, located at `tf.keras.optimizers.legacy.RMSprop`.\n",
      "WARNING:absl:There is a known slowdown when using v2.11+ Keras optimizers on M1/M2 Macs. Falling back to the legacy Keras optimizer, i.e., `tf.keras.optimizers.legacy.RMSprop`.\n"
     ]
    },
    {
     "name": "stdout",
     "output_type": "stream",
     "text": [
      "Epoch 1/10\n"
     ]
    },
    {
     "name": "stderr",
     "output_type": "stream",
     "text": [
      "2024-06-02 08:42:33.078920: I tensorflow/core/common_runtime/executor.cc:1197] [/device:CPU:0] (DEBUG INFO) Executor start aborting (this does not indicate an error and you can ignore this message): INVALID_ARGUMENT: You must feed a value for placeholder tensor 'Placeholder/_0' with dtype int32\n",
      "\t [[{{node Placeholder/_0}}]]\n",
      "2024-06-02 08:42:33.082116: W tensorflow/tsl/platform/profile_utils/cpu_utils.cc:128] Failed to get CPU frequency: 0 Hz\n"
     ]
    },
    {
     "name": "stdout",
     "output_type": "stream",
     "text": [
      "47/47 [==============================] - ETA: 0s - loss: 1.4907 - accuracy: 0.5200"
     ]
    },
    {
     "name": "stderr",
     "output_type": "stream",
     "text": [
      "2024-06-02 08:42:43.792103: I tensorflow/core/common_runtime/executor.cc:1197] [/device:CPU:0] (DEBUG INFO) Executor start aborting (this does not indicate an error and you can ignore this message): INVALID_ARGUMENT: You must feed a value for placeholder tensor 'Placeholder/_0' with dtype int32\n",
      "\t [[{{node Placeholder/_0}}]]\n"
     ]
    },
    {
     "name": "stdout",
     "output_type": "stream",
     "text": [
      "47/47 [==============================] - 12s 246ms/step - loss: 1.4907 - accuracy: 0.5200 - val_loss: 0.6905 - val_accuracy: 0.5000\n",
      "Epoch 2/10\n",
      "47/47 [==============================] - 11s 242ms/step - loss: 0.6823 - accuracy: 0.5807 - val_loss: 0.6719 - val_accuracy: 0.6760\n",
      "Epoch 3/10\n",
      "47/47 [==============================] - 11s 242ms/step - loss: 0.6532 - accuracy: 0.6533 - val_loss: 0.6099 - val_accuracy: 0.7320\n",
      "Epoch 4/10\n",
      "47/47 [==============================] - 11s 244ms/step - loss: 0.5936 - accuracy: 0.7140 - val_loss: 0.5913 - val_accuracy: 0.7120\n",
      "Epoch 5/10\n",
      "47/47 [==============================] - 12s 246ms/step - loss: 0.5637 - accuracy: 0.7380 - val_loss: 0.5300 - val_accuracy: 0.7560\n",
      "Epoch 6/10\n",
      "47/47 [==============================] - 11s 243ms/step - loss: 0.4877 - accuracy: 0.7827 - val_loss: 0.5723 - val_accuracy: 0.7100\n",
      "Epoch 7/10\n",
      "47/47 [==============================] - 12s 246ms/step - loss: 0.4281 - accuracy: 0.8087 - val_loss: 0.5258 - val_accuracy: 0.7480\n",
      "Epoch 8/10\n",
      "47/47 [==============================] - 11s 244ms/step - loss: 0.3381 - accuracy: 0.8460 - val_loss: 0.5811 - val_accuracy: 0.7500\n",
      "Epoch 9/10\n",
      "47/47 [==============================] - 12s 245ms/step - loss: 0.2745 - accuracy: 0.8907 - val_loss: 0.5143 - val_accuracy: 0.7680\n",
      "Epoch 10/10\n",
      "47/47 [==============================] - 12s 246ms/step - loss: 0.2478 - accuracy: 0.8933 - val_loss: 0.9504 - val_accuracy: 0.6700\n",
      "Model: \"sequential\"\n",
      "_________________________________________________________________\n",
      " Layer (type)                Output Shape              Param #   \n",
      "=================================================================\n",
      " conv2d (Conv2D)             (None, 198, 198, 64)      1792      \n",
      "                                                                 \n",
      " max_pooling2d (MaxPooling2D  (None, 99, 99, 64)       0         \n",
      " )                                                               \n",
      "                                                                 \n",
      " dropout (Dropout)           (None, 99, 99, 64)        0         \n",
      "                                                                 \n",
      " conv2d_1 (Conv2D)           (None, 97, 97, 64)        36928     \n",
      "                                                                 \n",
      " max_pooling2d_1 (MaxPooling  (None, 48, 48, 64)       0         \n",
      " 2D)                                                             \n",
      "                                                                 \n",
      " dropout_1 (Dropout)         (None, 48, 48, 64)        0         \n",
      "                                                                 \n",
      " flatten (Flatten)           (None, 147456)            0         \n",
      "                                                                 \n",
      " dense (Dense)               (None, 32)                4718624   \n",
      "                                                                 \n",
      " dropout_2 (Dropout)         (None, 32)                0         \n",
      "                                                                 \n",
      " dense_1 (Dense)             (None, 1)                 33        \n",
      "                                                                 \n",
      "=================================================================\n",
      "Total params: 4,757,377\n",
      "Trainable params: 4,757,377\n",
      "Non-trainable params: 0\n",
      "_________________________________________________________________\n"
     ]
    }
   ],
   "source": [
    "# define, compile, train model\n",
    "model = tf.keras.Sequential([\n",
    "    tf.keras.layers.Conv2D(64, (3, 3), activation='relu', input_shape=(200, 200, 3)),\n",
    "    tf.keras.layers.MaxPooling2D(2, 2),\n",
    "    tf.keras.layers.Dropout(0.2), # helps prevent overfitting\n",
    "    \n",
    "    tf.keras.layers.Conv2D(64, (3, 3), activation='relu'),\n",
    "    tf.keras.layers.MaxPooling2D(2, 2),\n",
    "    tf.keras.layers.Dropout(0.2),\n",
    "    \n",
    "    tf.keras.layers.Flatten(),\n",
    "    tf.keras.layers.Dense(32, activation='relu'),\n",
    "    tf.keras.layers.Dropout(0.2),\n",
    "    \n",
    "    tf.keras.layers.Dense(1, activation='sigmoid')\n",
    "])\n",
    "\n",
    "model.compile(\n",
    "    optimizer=RMSprop(learning_rate=0.001),\n",
    "    loss='binary_crossentropy',\n",
    "    metrics=['accuracy']\n",
    ")\n",
    "\n",
    "history = model.fit(\n",
    "    train_generator,\n",
    "    epochs=10,\n",
    "    validation_data=test_generator,\n",
    "    callbacks=[callbacks]\n",
    ")\n",
    "\n",
    "model.summary()"
   ]
  },
  {
   "cell_type": "code",
   "execution_count": null,
   "id": "d110a0dc-73db-4044-aebe-93777ae3fe85",
   "metadata": {},
   "outputs": [],
   "source": []
  }
 ],
 "metadata": {
  "kernelspec": {
   "display_name": "Python 3 (ipykernel)",
   "language": "python",
   "name": "python3"
  },
  "language_info": {
   "codemirror_mode": {
    "name": "ipython",
    "version": 3
   },
   "file_extension": ".py",
   "mimetype": "text/x-python",
   "name": "python",
   "nbconvert_exporter": "python",
   "pygments_lexer": "ipython3",
   "version": "3.11.5"
  }
 },
 "nbformat": 4,
 "nbformat_minor": 5
}
