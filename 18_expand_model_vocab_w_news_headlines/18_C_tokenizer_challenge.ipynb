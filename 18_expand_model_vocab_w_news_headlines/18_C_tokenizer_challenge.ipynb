{
 "cells": [
  {
   "cell_type": "code",
   "execution_count": 3,
   "id": "b16d4c7c-cccb-43c9-83a6-0a6de83ebcf5",
   "metadata": {},
   "outputs": [],
   "source": [
    "import pandas as pd\n",
    "from tensorflow.keras.preprocessing.text import Tokenizer\n",
    "from tensorflow.keras.preprocessing.sequence import pad_sequences\n",
    "from sklearn.model_selection import train_test_split\n",
    "from tensorflow.keras.utils import to_categorical\n",
    "from sklearn.preprocessing import LabelEncoder\n",
    "from tensorflow.keras.models import Sequential\n",
    "from tensorflow.keras.layers import Embedding, GlobalAveragePooling1D, Dense"
   ]
  },
  {
   "cell_type": "code",
   "execution_count": 4,
   "id": "0f27dedd-beb0-4f4c-93da-0cbc340d3a71",
   "metadata": {},
   "outputs": [
    {
     "data": {
      "text/html": [
       "<div>\n",
       "<style scoped>\n",
       "    .dataframe tbody tr th:only-of-type {\n",
       "        vertical-align: middle;\n",
       "    }\n",
       "\n",
       "    .dataframe tbody tr th {\n",
       "        vertical-align: top;\n",
       "    }\n",
       "\n",
       "    .dataframe thead th {\n",
       "        text-align: right;\n",
       "    }\n",
       "</style>\n",
       "<table border=\"1\" class=\"dataframe\">\n",
       "  <thead>\n",
       "    <tr style=\"text-align: right;\">\n",
       "      <th></th>\n",
       "      <th>link</th>\n",
       "      <th>headline</th>\n",
       "      <th>category</th>\n",
       "      <th>short_description</th>\n",
       "      <th>authors</th>\n",
       "      <th>date</th>\n",
       "    </tr>\n",
       "  </thead>\n",
       "  <tbody>\n",
       "    <tr>\n",
       "      <th>0</th>\n",
       "      <td>https://www.huffpost.com/entry/covid-boosters-...</td>\n",
       "      <td>Over 4 Million Americans Roll Up Sleeves For O...</td>\n",
       "      <td>U.S. NEWS</td>\n",
       "      <td>Health experts said it is too early to predict...</td>\n",
       "      <td>Carla K. Johnson, AP</td>\n",
       "      <td>2022-09-23</td>\n",
       "    </tr>\n",
       "    <tr>\n",
       "      <th>1</th>\n",
       "      <td>https://www.huffpost.com/entry/american-airlin...</td>\n",
       "      <td>American Airlines Flyer Charged, Banned For Li...</td>\n",
       "      <td>U.S. NEWS</td>\n",
       "      <td>He was subdued by passengers and crew when he ...</td>\n",
       "      <td>Mary Papenfuss</td>\n",
       "      <td>2022-09-23</td>\n",
       "    </tr>\n",
       "    <tr>\n",
       "      <th>2</th>\n",
       "      <td>https://www.huffpost.com/entry/funniest-tweets...</td>\n",
       "      <td>23 Of The Funniest Tweets About Cats And Dogs ...</td>\n",
       "      <td>COMEDY</td>\n",
       "      <td>\"Until you have a dog you don't understand wha...</td>\n",
       "      <td>Elyse Wanshel</td>\n",
       "      <td>2022-09-23</td>\n",
       "    </tr>\n",
       "    <tr>\n",
       "      <th>3</th>\n",
       "      <td>https://www.huffpost.com/entry/funniest-parent...</td>\n",
       "      <td>The Funniest Tweets From Parents This Week (Se...</td>\n",
       "      <td>PARENTING</td>\n",
       "      <td>\"Accidentally put grown-up toothpaste on my to...</td>\n",
       "      <td>Caroline Bologna</td>\n",
       "      <td>2022-09-23</td>\n",
       "    </tr>\n",
       "    <tr>\n",
       "      <th>4</th>\n",
       "      <td>https://www.huffpost.com/entry/amy-cooper-lose...</td>\n",
       "      <td>Woman Who Called Cops On Black Bird-Watcher Lo...</td>\n",
       "      <td>U.S. NEWS</td>\n",
       "      <td>Amy Cooper accused investment firm Franklin Te...</td>\n",
       "      <td>Nina Golgowski</td>\n",
       "      <td>2022-09-22</td>\n",
       "    </tr>\n",
       "    <tr>\n",
       "      <th>...</th>\n",
       "      <td>...</td>\n",
       "      <td>...</td>\n",
       "      <td>...</td>\n",
       "      <td>...</td>\n",
       "      <td>...</td>\n",
       "      <td>...</td>\n",
       "    </tr>\n",
       "    <tr>\n",
       "      <th>52376</th>\n",
       "      <td>https://www.huffingtonpost.com/entry/richard-b...</td>\n",
       "      <td>GOP Senators No Longer Want The People To Deci...</td>\n",
       "      <td>POLITICS</td>\n",
       "      <td>That Merrick Garland talking point is now obso...</td>\n",
       "      <td>Sam Stein</td>\n",
       "      <td>2016-11-01</td>\n",
       "    </tr>\n",
       "    <tr>\n",
       "      <th>52377</th>\n",
       "      <td>https://www.huffingtonpost.com/entry/florissan...</td>\n",
       "      <td>A City Near Ferguson Is Still Caging Humans In...</td>\n",
       "      <td>POLITICS</td>\n",
       "      <td>Lawsuit alleges the city of Florissant was run...</td>\n",
       "      <td>Mariah Stewart and Ryan J. Reilly</td>\n",
       "      <td>2016-11-01</td>\n",
       "    </tr>\n",
       "    <tr>\n",
       "      <th>52378</th>\n",
       "      <td>https://www.huffingtonpost.com/entry/snickers-...</td>\n",
       "      <td>2 Michigan Families Claim They Found Nails In ...</td>\n",
       "      <td>CRIME</td>\n",
       "      <td>A firefighter and the mother of a toddler repo...</td>\n",
       "      <td>David Moye</td>\n",
       "      <td>2016-11-01</td>\n",
       "    </tr>\n",
       "    <tr>\n",
       "      <th>52379</th>\n",
       "      <td>https://www.huffingtonpost.com/entry/mitt-romn...</td>\n",
       "      <td>Mitt Romney Dresses As Mitt Romney For Halloween</td>\n",
       "      <td>POLITICS</td>\n",
       "      <td>The Romneys decided to be their alter egos, so...</td>\n",
       "      <td>Carla Herreria</td>\n",
       "      <td>2016-11-01</td>\n",
       "    </tr>\n",
       "    <tr>\n",
       "      <th>52380</th>\n",
       "      <td>https://www.huffingtonpost.com/entry/ron-johns...</td>\n",
       "      <td>GOP Senator Denies Irish Investment Is Designe...</td>\n",
       "      <td>POLITICS</td>\n",
       "      <td>But Ron Johnson was not eager to answer questi...</td>\n",
       "      <td>Daniel Marans</td>\n",
       "      <td>2016-11-01</td>\n",
       "    </tr>\n",
       "  </tbody>\n",
       "</table>\n",
       "<p>52381 rows × 6 columns</p>\n",
       "</div>"
      ],
      "text/plain": [
       "                                                    link  \\\n",
       "0      https://www.huffpost.com/entry/covid-boosters-...   \n",
       "1      https://www.huffpost.com/entry/american-airlin...   \n",
       "2      https://www.huffpost.com/entry/funniest-tweets...   \n",
       "3      https://www.huffpost.com/entry/funniest-parent...   \n",
       "4      https://www.huffpost.com/entry/amy-cooper-lose...   \n",
       "...                                                  ...   \n",
       "52376  https://www.huffingtonpost.com/entry/richard-b...   \n",
       "52377  https://www.huffingtonpost.com/entry/florissan...   \n",
       "52378  https://www.huffingtonpost.com/entry/snickers-...   \n",
       "52379  https://www.huffingtonpost.com/entry/mitt-romn...   \n",
       "52380  https://www.huffingtonpost.com/entry/ron-johns...   \n",
       "\n",
       "                                                headline   category  \\\n",
       "0      Over 4 Million Americans Roll Up Sleeves For O...  U.S. NEWS   \n",
       "1      American Airlines Flyer Charged, Banned For Li...  U.S. NEWS   \n",
       "2      23 Of The Funniest Tweets About Cats And Dogs ...     COMEDY   \n",
       "3      The Funniest Tweets From Parents This Week (Se...  PARENTING   \n",
       "4      Woman Who Called Cops On Black Bird-Watcher Lo...  U.S. NEWS   \n",
       "...                                                  ...        ...   \n",
       "52376  GOP Senators No Longer Want The People To Deci...   POLITICS   \n",
       "52377  A City Near Ferguson Is Still Caging Humans In...   POLITICS   \n",
       "52378  2 Michigan Families Claim They Found Nails In ...      CRIME   \n",
       "52379   Mitt Romney Dresses As Mitt Romney For Halloween   POLITICS   \n",
       "52380  GOP Senator Denies Irish Investment Is Designe...   POLITICS   \n",
       "\n",
       "                                       short_description  \\\n",
       "0      Health experts said it is too early to predict...   \n",
       "1      He was subdued by passengers and crew when he ...   \n",
       "2      \"Until you have a dog you don't understand wha...   \n",
       "3      \"Accidentally put grown-up toothpaste on my to...   \n",
       "4      Amy Cooper accused investment firm Franklin Te...   \n",
       "...                                                  ...   \n",
       "52376  That Merrick Garland talking point is now obso...   \n",
       "52377  Lawsuit alleges the city of Florissant was run...   \n",
       "52378  A firefighter and the mother of a toddler repo...   \n",
       "52379  The Romneys decided to be their alter egos, so...   \n",
       "52380  But Ron Johnson was not eager to answer questi...   \n",
       "\n",
       "                                 authors       date  \n",
       "0                   Carla K. Johnson, AP 2022-09-23  \n",
       "1                         Mary Papenfuss 2022-09-23  \n",
       "2                          Elyse Wanshel 2022-09-23  \n",
       "3                       Caroline Bologna 2022-09-23  \n",
       "4                         Nina Golgowski 2022-09-22  \n",
       "...                                  ...        ...  \n",
       "52376                          Sam Stein 2016-11-01  \n",
       "52377  Mariah Stewart and Ryan J. Reilly 2016-11-01  \n",
       "52378                         David Moye 2016-11-01  \n",
       "52379                     Carla Herreria 2016-11-01  \n",
       "52380                      Daniel Marans 2016-11-01  \n",
       "\n",
       "[52381 rows x 6 columns]"
      ]
     },
     "execution_count": 4,
     "metadata": {},
     "output_type": "execute_result"
    }
   ],
   "source": [
    "url = \"https://raw.githubusercontent.com/cbtn-data-science-ml/tensorflow-professional-developer/main/18_expand_model_vocab_w_news_headlines/News_Category_Dataset_Reduced_25.json\"\n",
    "df = pd.read_json(url, lines=True)\n",
    "df"
   ]
  },
  {
   "cell_type": "code",
   "execution_count": 5,
   "id": "db633fa2-441e-446e-ba8d-b3357aa5377c",
   "metadata": {},
   "outputs": [],
   "source": [
    "sentences = df['headline'].tolist()\n",
    "labels = df['category'].tolist()"
   ]
  },
  {
   "cell_type": "code",
   "execution_count": 7,
   "id": "bd90b1a6-9c74-4ce4-b907-421b0775cedd",
   "metadata": {},
   "outputs": [],
   "source": [
    "label_encoder = LabelEncoder()\n",
    "integer_encoded = label_encoder.fit_transform(labels)\n",
    "labels_encoded = to_categorical(integer_encoded)"
   ]
  },
  {
   "cell_type": "code",
   "execution_count": 8,
   "id": "278067d0-bfd8-4393-8f18-4de52767fdf9",
   "metadata": {},
   "outputs": [],
   "source": [
    "# Tokenize sentences\n",
    "max_tokens = 20000\n",
    "tokenizer = Tokenizer(num_words=max_tokens, oov_token=\"<OOV>\")\n",
    "tokenizer.fit_on_texts(sentences)\n",
    "sequences = tokenizer.texts_to_sequences(sentences)\n",
    "padded = pad_sequences(sequences, padding='post')"
   ]
  },
  {
   "cell_type": "code",
   "execution_count": 9,
   "id": "99cfe655-985b-483e-afca-c46d5a940b60",
   "metadata": {},
   "outputs": [
    {
     "data": {
      "text/plain": [
       "27"
      ]
     },
     "execution_count": 9,
     "metadata": {},
     "output_type": "execute_result"
    }
   ],
   "source": [
    "padded.shape[1]"
   ]
  },
  {
   "cell_type": "code",
   "execution_count": 10,
   "id": "7c9fc2d6-0c83-4f26-a5ac-6bb39d46307c",
   "metadata": {},
   "outputs": [],
   "source": [
    "X_train, X_test, y_train, y_test = train_test_split(padded, labels_encoded, test_size=0.2, random_state=42)"
   ]
  },
  {
   "cell_type": "code",
   "execution_count": 12,
   "id": "765f2704-dfa0-4ac9-862f-c9447795ecad",
   "metadata": {},
   "outputs": [
    {
     "data": {
      "text/plain": [
       "41"
      ]
     },
     "execution_count": 12,
     "metadata": {},
     "output_type": "execute_result"
    }
   ],
   "source": [
    "len(labels_encoded[0])"
   ]
  },
  {
   "cell_type": "code",
   "execution_count": 15,
   "id": "0b77fc97-6f4d-43d6-ae54-f49903e7eef6",
   "metadata": {},
   "outputs": [],
   "source": [
    "model = Sequential([\n",
    "    Embedding(input_dim=max_tokens, output_dim=16),\n",
    "    GlobalAveragePooling1D(),\n",
    "    Dense(24, activation='relu'),\n",
    "    Dense(len(labels_encoded[0]), activation='softmax')\n",
    "])"
   ]
  },
  {
   "cell_type": "code",
   "execution_count": 16,
   "id": "e10e2008-f8c9-4751-a048-9d60c27cd7e8",
   "metadata": {},
   "outputs": [],
   "source": [
    "model.compile(loss='categorical_crossentropy', optimizer='adam', metrics=['accuracy'])"
   ]
  },
  {
   "cell_type": "code",
   "execution_count": 18,
   "id": "0bddeeb5-a75b-4a73-ba90-e4683702889b",
   "metadata": {},
   "outputs": [
    {
     "name": "stdout",
     "output_type": "stream",
     "text": [
      "Epoch 1/10\n",
      "\u001b[1m1310/1310\u001b[0m \u001b[32m━━━━━━━━━━━━━━━━━━━━\u001b[0m\u001b[37m\u001b[0m \u001b[1m2s\u001b[0m 1ms/step - accuracy: 0.3452 - loss: 2.8200 - val_accuracy: 0.3449 - val_loss: 2.5275\n",
      "Epoch 2/10\n",
      "\u001b[1m1310/1310\u001b[0m \u001b[32m━━━━━━━━━━━━━━━━━━━━\u001b[0m\u001b[37m\u001b[0m \u001b[1m2s\u001b[0m 1ms/step - accuracy: 0.3950 - loss: 2.3764 - val_accuracy: 0.4426 - val_loss: 2.1941\n",
      "Epoch 3/10\n",
      "\u001b[1m1310/1310\u001b[0m \u001b[32m━━━━━━━━━━━━━━━━━━━━\u001b[0m\u001b[37m\u001b[0m \u001b[1m2s\u001b[0m 1ms/step - accuracy: 0.4797 - loss: 2.0410 - val_accuracy: 0.4803 - val_loss: 2.0152\n",
      "Epoch 4/10\n",
      "\u001b[1m1310/1310\u001b[0m \u001b[32m━━━━━━━━━━━━━━━━━━━━\u001b[0m\u001b[37m\u001b[0m \u001b[1m2s\u001b[0m 1ms/step - accuracy: 0.5163 - loss: 1.8331 - val_accuracy: 0.5057 - val_loss: 1.9143\n",
      "Epoch 5/10\n",
      "\u001b[1m1310/1310\u001b[0m \u001b[32m━━━━━━━━━━━━━━━━━━━━\u001b[0m\u001b[37m\u001b[0m \u001b[1m2s\u001b[0m 1ms/step - accuracy: 0.5565 - loss: 1.6847 - val_accuracy: 0.5150 - val_loss: 1.8529\n",
      "Epoch 6/10\n",
      "\u001b[1m1310/1310\u001b[0m \u001b[32m━━━━━━━━━━━━━━━━━━━━\u001b[0m\u001b[37m\u001b[0m \u001b[1m2s\u001b[0m 1ms/step - accuracy: 0.5788 - loss: 1.5697 - val_accuracy: 0.5364 - val_loss: 1.7770\n",
      "Epoch 7/10\n",
      "\u001b[1m1310/1310\u001b[0m \u001b[32m━━━━━━━━━━━━━━━━━━━━\u001b[0m\u001b[37m\u001b[0m \u001b[1m2s\u001b[0m 1ms/step - accuracy: 0.5952 - loss: 1.4698 - val_accuracy: 0.5430 - val_loss: 1.7472\n",
      "Epoch 8/10\n",
      "\u001b[1m1310/1310\u001b[0m \u001b[32m━━━━━━━━━━━━━━━━━━━━\u001b[0m\u001b[37m\u001b[0m \u001b[1m2s\u001b[0m 1ms/step - accuracy: 0.6242 - loss: 1.3562 - val_accuracy: 0.5440 - val_loss: 1.7299\n",
      "Epoch 9/10\n",
      "\u001b[1m1310/1310\u001b[0m \u001b[32m━━━━━━━━━━━━━━━━━━━━\u001b[0m\u001b[37m\u001b[0m \u001b[1m2s\u001b[0m 1ms/step - accuracy: 0.6413 - loss: 1.2818 - val_accuracy: 0.5461 - val_loss: 1.7384\n",
      "Epoch 10/10\n",
      "\u001b[1m1310/1310\u001b[0m \u001b[32m━━━━━━━━━━━━━━━━━━━━\u001b[0m\u001b[37m\u001b[0m \u001b[1m2s\u001b[0m 1ms/step - accuracy: 0.6555 - loss: 1.2168 - val_accuracy: 0.5465 - val_loss: 1.7384\n"
     ]
    }
   ],
   "source": [
    "history = model.fit(X_train, y_train, epochs=10 , validation_data=(X_test, y_test))"
   ]
  },
  {
   "cell_type": "code",
   "execution_count": null,
   "id": "54fe1b28-370a-4c83-a671-2516d4fdbc59",
   "metadata": {},
   "outputs": [],
   "source": []
  }
 ],
 "metadata": {
  "kernelspec": {
   "display_name": "Python 3 (ipykernel)",
   "language": "python",
   "name": "python3"
  },
  "language_info": {
   "codemirror_mode": {
    "name": "ipython",
    "version": 3
   },
   "file_extension": ".py",
   "mimetype": "text/x-python",
   "name": "python",
   "nbconvert_exporter": "python",
   "pygments_lexer": "ipython3",
   "version": "3.11.5"
  }
 },
 "nbformat": 4,
 "nbformat_minor": 5
}
