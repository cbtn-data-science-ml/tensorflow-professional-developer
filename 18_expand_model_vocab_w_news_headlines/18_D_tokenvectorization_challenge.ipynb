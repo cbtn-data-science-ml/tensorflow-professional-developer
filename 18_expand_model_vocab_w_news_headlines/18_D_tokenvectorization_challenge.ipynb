{
 "cells": [
  {
   "cell_type": "code",
   "execution_count": 1,
   "id": "bc2ac14f-74c9-4a3c-9186-a6cf2e8f6d2a",
   "metadata": {},
   "outputs": [],
   "source": [
    "import pandas as pd\n",
    "from sklearn.model_selection import train_test_split\n",
    "from tensorflow.keras.utils import to_categorical\n",
    "from sklearn.preprocessing import LabelEncoder\n",
    "from tensorflow.keras.models import Sequential\n",
    "from tensorflow.keras.layers import Embedding, GlobalAveragePooling1D, Dense, TextVectorization"
   ]
  },
  {
   "cell_type": "code",
   "execution_count": 2,
   "id": "0d4366db-9d52-4f7d-9a32-7fd8179b3079",
   "metadata": {},
   "outputs": [],
   "source": [
    "url = \"https://raw.githubusercontent.com/cbtn-data-science-ml/tensorflow-professional-developer/main/18_expand_model_vocab_w_news_headlines/News_Category_Dataset_Reduced_25.json\"\n",
    "df = pd.read_json(url, lines=True)"
   ]
  },
  {
   "cell_type": "code",
   "execution_count": 3,
   "id": "e4d07349-f675-4d9f-9c4f-41429e4d6161",
   "metadata": {},
   "outputs": [],
   "source": [
    "sentences = df['headline'].tolist()\n",
    "labels = df['category'].tolist()"
   ]
  },
  {
   "cell_type": "code",
   "execution_count": 31,
   "id": "c36c4035-4908-45a1-9a6e-e12df9ef6987",
   "metadata": {},
   "outputs": [
    {
     "data": {
      "text/html": [
       "<div>\n",
       "<style scoped>\n",
       "    .dataframe tbody tr th:only-of-type {\n",
       "        vertical-align: middle;\n",
       "    }\n",
       "\n",
       "    .dataframe tbody tr th {\n",
       "        vertical-align: top;\n",
       "    }\n",
       "\n",
       "    .dataframe thead th {\n",
       "        text-align: right;\n",
       "    }\n",
       "</style>\n",
       "<table border=\"1\" class=\"dataframe\">\n",
       "  <thead>\n",
       "    <tr style=\"text-align: right;\">\n",
       "      <th></th>\n",
       "      <th>link</th>\n",
       "      <th>headline</th>\n",
       "      <th>category</th>\n",
       "      <th>short_description</th>\n",
       "      <th>authors</th>\n",
       "      <th>date</th>\n",
       "    </tr>\n",
       "  </thead>\n",
       "  <tbody>\n",
       "    <tr>\n",
       "      <th>0</th>\n",
       "      <td>https://www.huffpost.com/entry/covid-boosters-...</td>\n",
       "      <td>Over 4 Million Americans Roll Up Sleeves For O...</td>\n",
       "      <td>U.S. NEWS</td>\n",
       "      <td>Health experts said it is too early to predict...</td>\n",
       "      <td>Carla K. Johnson, AP</td>\n",
       "      <td>2022-09-23</td>\n",
       "    </tr>\n",
       "    <tr>\n",
       "      <th>1</th>\n",
       "      <td>https://www.huffpost.com/entry/american-airlin...</td>\n",
       "      <td>American Airlines Flyer Charged, Banned For Li...</td>\n",
       "      <td>U.S. NEWS</td>\n",
       "      <td>He was subdued by passengers and crew when he ...</td>\n",
       "      <td>Mary Papenfuss</td>\n",
       "      <td>2022-09-23</td>\n",
       "    </tr>\n",
       "    <tr>\n",
       "      <th>2</th>\n",
       "      <td>https://www.huffpost.com/entry/funniest-tweets...</td>\n",
       "      <td>23 Of The Funniest Tweets About Cats And Dogs ...</td>\n",
       "      <td>COMEDY</td>\n",
       "      <td>\"Until you have a dog you don't understand wha...</td>\n",
       "      <td>Elyse Wanshel</td>\n",
       "      <td>2022-09-23</td>\n",
       "    </tr>\n",
       "    <tr>\n",
       "      <th>3</th>\n",
       "      <td>https://www.huffpost.com/entry/funniest-parent...</td>\n",
       "      <td>The Funniest Tweets From Parents This Week (Se...</td>\n",
       "      <td>PARENTING</td>\n",
       "      <td>\"Accidentally put grown-up toothpaste on my to...</td>\n",
       "      <td>Caroline Bologna</td>\n",
       "      <td>2022-09-23</td>\n",
       "    </tr>\n",
       "    <tr>\n",
       "      <th>4</th>\n",
       "      <td>https://www.huffpost.com/entry/amy-cooper-lose...</td>\n",
       "      <td>Woman Who Called Cops On Black Bird-Watcher Lo...</td>\n",
       "      <td>U.S. NEWS</td>\n",
       "      <td>Amy Cooper accused investment firm Franklin Te...</td>\n",
       "      <td>Nina Golgowski</td>\n",
       "      <td>2022-09-22</td>\n",
       "    </tr>\n",
       "    <tr>\n",
       "      <th>...</th>\n",
       "      <td>...</td>\n",
       "      <td>...</td>\n",
       "      <td>...</td>\n",
       "      <td>...</td>\n",
       "      <td>...</td>\n",
       "      <td>...</td>\n",
       "    </tr>\n",
       "    <tr>\n",
       "      <th>52376</th>\n",
       "      <td>https://www.huffingtonpost.com/entry/richard-b...</td>\n",
       "      <td>GOP Senators No Longer Want The People To Deci...</td>\n",
       "      <td>POLITICS</td>\n",
       "      <td>That Merrick Garland talking point is now obso...</td>\n",
       "      <td>Sam Stein</td>\n",
       "      <td>2016-11-01</td>\n",
       "    </tr>\n",
       "    <tr>\n",
       "      <th>52377</th>\n",
       "      <td>https://www.huffingtonpost.com/entry/florissan...</td>\n",
       "      <td>A City Near Ferguson Is Still Caging Humans In...</td>\n",
       "      <td>POLITICS</td>\n",
       "      <td>Lawsuit alleges the city of Florissant was run...</td>\n",
       "      <td>Mariah Stewart and Ryan J. Reilly</td>\n",
       "      <td>2016-11-01</td>\n",
       "    </tr>\n",
       "    <tr>\n",
       "      <th>52378</th>\n",
       "      <td>https://www.huffingtonpost.com/entry/snickers-...</td>\n",
       "      <td>2 Michigan Families Claim They Found Nails In ...</td>\n",
       "      <td>CRIME</td>\n",
       "      <td>A firefighter and the mother of a toddler repo...</td>\n",
       "      <td>David Moye</td>\n",
       "      <td>2016-11-01</td>\n",
       "    </tr>\n",
       "    <tr>\n",
       "      <th>52379</th>\n",
       "      <td>https://www.huffingtonpost.com/entry/mitt-romn...</td>\n",
       "      <td>Mitt Romney Dresses As Mitt Romney For Halloween</td>\n",
       "      <td>POLITICS</td>\n",
       "      <td>The Romneys decided to be their alter egos, so...</td>\n",
       "      <td>Carla Herreria</td>\n",
       "      <td>2016-11-01</td>\n",
       "    </tr>\n",
       "    <tr>\n",
       "      <th>52380</th>\n",
       "      <td>https://www.huffingtonpost.com/entry/ron-johns...</td>\n",
       "      <td>GOP Senator Denies Irish Investment Is Designe...</td>\n",
       "      <td>POLITICS</td>\n",
       "      <td>But Ron Johnson was not eager to answer questi...</td>\n",
       "      <td>Daniel Marans</td>\n",
       "      <td>2016-11-01</td>\n",
       "    </tr>\n",
       "  </tbody>\n",
       "</table>\n",
       "<p>52381 rows × 6 columns</p>\n",
       "</div>"
      ],
      "text/plain": [
       "                                                    link  \\\n",
       "0      https://www.huffpost.com/entry/covid-boosters-...   \n",
       "1      https://www.huffpost.com/entry/american-airlin...   \n",
       "2      https://www.huffpost.com/entry/funniest-tweets...   \n",
       "3      https://www.huffpost.com/entry/funniest-parent...   \n",
       "4      https://www.huffpost.com/entry/amy-cooper-lose...   \n",
       "...                                                  ...   \n",
       "52376  https://www.huffingtonpost.com/entry/richard-b...   \n",
       "52377  https://www.huffingtonpost.com/entry/florissan...   \n",
       "52378  https://www.huffingtonpost.com/entry/snickers-...   \n",
       "52379  https://www.huffingtonpost.com/entry/mitt-romn...   \n",
       "52380  https://www.huffingtonpost.com/entry/ron-johns...   \n",
       "\n",
       "                                                headline   category  \\\n",
       "0      Over 4 Million Americans Roll Up Sleeves For O...  U.S. NEWS   \n",
       "1      American Airlines Flyer Charged, Banned For Li...  U.S. NEWS   \n",
       "2      23 Of The Funniest Tweets About Cats And Dogs ...     COMEDY   \n",
       "3      The Funniest Tweets From Parents This Week (Se...  PARENTING   \n",
       "4      Woman Who Called Cops On Black Bird-Watcher Lo...  U.S. NEWS   \n",
       "...                                                  ...        ...   \n",
       "52376  GOP Senators No Longer Want The People To Deci...   POLITICS   \n",
       "52377  A City Near Ferguson Is Still Caging Humans In...   POLITICS   \n",
       "52378  2 Michigan Families Claim They Found Nails In ...      CRIME   \n",
       "52379   Mitt Romney Dresses As Mitt Romney For Halloween   POLITICS   \n",
       "52380  GOP Senator Denies Irish Investment Is Designe...   POLITICS   \n",
       "\n",
       "                                       short_description  \\\n",
       "0      Health experts said it is too early to predict...   \n",
       "1      He was subdued by passengers and crew when he ...   \n",
       "2      \"Until you have a dog you don't understand wha...   \n",
       "3      \"Accidentally put grown-up toothpaste on my to...   \n",
       "4      Amy Cooper accused investment firm Franklin Te...   \n",
       "...                                                  ...   \n",
       "52376  That Merrick Garland talking point is now obso...   \n",
       "52377  Lawsuit alleges the city of Florissant was run...   \n",
       "52378  A firefighter and the mother of a toddler repo...   \n",
       "52379  The Romneys decided to be their alter egos, so...   \n",
       "52380  But Ron Johnson was not eager to answer questi...   \n",
       "\n",
       "                                 authors       date  \n",
       "0                   Carla K. Johnson, AP 2022-09-23  \n",
       "1                         Mary Papenfuss 2022-09-23  \n",
       "2                          Elyse Wanshel 2022-09-23  \n",
       "3                       Caroline Bologna 2022-09-23  \n",
       "4                         Nina Golgowski 2022-09-22  \n",
       "...                                  ...        ...  \n",
       "52376                          Sam Stein 2016-11-01  \n",
       "52377  Mariah Stewart and Ryan J. Reilly 2016-11-01  \n",
       "52378                         David Moye 2016-11-01  \n",
       "52379                     Carla Herreria 2016-11-01  \n",
       "52380                      Daniel Marans 2016-11-01  \n",
       "\n",
       "[52381 rows x 6 columns]"
      ]
     },
     "execution_count": 31,
     "metadata": {},
     "output_type": "execute_result"
    }
   ],
   "source": [
    "df"
   ]
  },
  {
   "cell_type": "code",
   "execution_count": 33,
   "id": "a01c23b3-bf7c-499b-aea4-282bbdd7df74",
   "metadata": {},
   "outputs": [],
   "source": [
    "label_encoder = LabelEncoder()\n",
    "integer_encoded = label_encoder.fit_transform(labels)\n",
    "labels_encoded = to_categorical(integer_encoded)"
   ]
  },
  {
   "cell_type": "code",
   "execution_count": 34,
   "id": "4c851194-2975-4d09-9506-bd32dc2fc80c",
   "metadata": {},
   "outputs": [],
   "source": [
    "max_tokens = 20000\n",
    "max_len = 50\n",
    "\n",
    "vectorize_layer = TextVectorization(\n",
    "    max_tokens=max_tokens,\n",
    "    output_mode='int',\n",
    "    output_sequence_length=max_len\n",
    ")"
   ]
  },
  {
   "cell_type": "code",
   "execution_count": 35,
   "id": "44fe8bc3-1b9e-4e70-b6a9-7fba99c783e4",
   "metadata": {},
   "outputs": [],
   "source": [
    "vectorize_layer.adapt(sentences)"
   ]
  },
  {
   "cell_type": "code",
   "execution_count": 36,
   "id": "497761ed-781c-4069-96c1-8938f61e3ee5",
   "metadata": {},
   "outputs": [],
   "source": [
    "vectorized_text = vectorize_layer(sentences)"
   ]
  },
  {
   "cell_type": "code",
   "execution_count": 37,
   "id": "a0b3a771-afd6-4ec0-801c-6f159b87b942",
   "metadata": {},
   "outputs": [
    {
     "data": {
      "text/plain": [
       "50"
      ]
     },
     "execution_count": 37,
     "metadata": {},
     "output_type": "execute_result"
    }
   ],
   "source": [
    "vectorized_text.shape[1]"
   ]
  },
  {
   "cell_type": "code",
   "execution_count": 38,
   "id": "9b52f9f9-fbce-4800-adf2-24a14296ad48",
   "metadata": {},
   "outputs": [],
   "source": [
    "X_train, X_test, y_train, y_test = train_test_split(vectorized_text.numpy(), labels_encoded, test_size=0.2, random_state=42)"
   ]
  },
  {
   "cell_type": "code",
   "execution_count": 42,
   "id": "1eb15a14-ae24-4fe3-9e81-377f38327833",
   "metadata": {},
   "outputs": [],
   "source": [
    "model = Sequential([\n",
    "    Embedding(input_dim=max_tokens, output_dim=16),\n",
    "    GlobalAveragePooling1D(),\n",
    "    Dense(24, activation='relu'),\n",
    "    Dense(len(labels_encoded[0]), activation='softmax')\n",
    "])"
   ]
  },
  {
   "cell_type": "code",
   "execution_count": 39,
   "id": "5f6e66d9-d361-4637-a158-aefdda473ece",
   "metadata": {},
   "outputs": [
    {
     "data": {
      "text/plain": [
       "41"
      ]
     },
     "execution_count": 39,
     "metadata": {},
     "output_type": "execute_result"
    }
   ],
   "source": [
    "len(labels_encoded[0])"
   ]
  },
  {
   "cell_type": "code",
   "execution_count": 43,
   "id": "df38a86e-0a56-4b59-9810-ec7797963dbe",
   "metadata": {},
   "outputs": [],
   "source": [
    "model.compile(loss='categorical_crossentropy', optimizer='adam', metrics=['accuracy'])"
   ]
  },
  {
   "cell_type": "code",
   "execution_count": 44,
   "id": "6126f878-c7f8-467f-8241-ab349fb3fa91",
   "metadata": {},
   "outputs": [
    {
     "name": "stdout",
     "output_type": "stream",
     "text": [
      "Epoch 1/10\n",
      "\u001b[1m1310/1310\u001b[0m \u001b[32m━━━━━━━━━━━━━━━━━━━━\u001b[0m\u001b[37m\u001b[0m \u001b[1m2s\u001b[0m 1ms/step - accuracy: 0.3364 - loss: 2.8217 - val_accuracy: 0.3438 - val_loss: 2.6142\n",
      "Epoch 2/10\n",
      "\u001b[1m1310/1310\u001b[0m \u001b[32m━━━━━━━━━━━━━━━━━━━━\u001b[0m\u001b[37m\u001b[0m \u001b[1m2s\u001b[0m 1ms/step - accuracy: 0.3488 - loss: 2.5589 - val_accuracy: 0.3843 - val_loss: 2.4347\n",
      "Epoch 3/10\n",
      "\u001b[1m1310/1310\u001b[0m \u001b[32m━━━━━━━━━━━━━━━━━━━━\u001b[0m\u001b[37m\u001b[0m \u001b[1m2s\u001b[0m 1ms/step - accuracy: 0.3947 - loss: 2.3657 - val_accuracy: 0.4183 - val_loss: 2.3122\n",
      "Epoch 4/10\n",
      "\u001b[1m1310/1310\u001b[0m \u001b[32m━━━━━━━━━━━━━━━━━━━━\u001b[0m\u001b[37m\u001b[0m \u001b[1m2s\u001b[0m 1ms/step - accuracy: 0.4345 - loss: 2.2205 - val_accuracy: 0.4346 - val_loss: 2.1810\n",
      "Epoch 5/10\n",
      "\u001b[1m1310/1310\u001b[0m \u001b[32m━━━━━━━━━━━━━━━━━━━━\u001b[0m\u001b[37m\u001b[0m \u001b[1m2s\u001b[0m 1ms/step - accuracy: 0.4732 - loss: 2.0486 - val_accuracy: 0.4853 - val_loss: 2.0403\n",
      "Epoch 6/10\n",
      "\u001b[1m1310/1310\u001b[0m \u001b[32m━━━━━━━━━━━━━━━━━━━━\u001b[0m\u001b[37m\u001b[0m \u001b[1m2s\u001b[0m 1ms/step - accuracy: 0.5256 - loss: 1.8685 - val_accuracy: 0.5026 - val_loss: 1.9443\n",
      "Epoch 7/10\n",
      "\u001b[1m1310/1310\u001b[0m \u001b[32m━━━━━━━━━━━━━━━━━━━━\u001b[0m\u001b[37m\u001b[0m \u001b[1m2s\u001b[0m 1ms/step - accuracy: 0.5511 - loss: 1.7329 - val_accuracy: 0.5067 - val_loss: 1.8988\n",
      "Epoch 8/10\n",
      "\u001b[1m1310/1310\u001b[0m \u001b[32m━━━━━━━━━━━━━━━━━━━━\u001b[0m\u001b[37m\u001b[0m \u001b[1m2s\u001b[0m 1ms/step - accuracy: 0.5629 - loss: 1.6563 - val_accuracy: 0.5237 - val_loss: 1.8448\n",
      "Epoch 9/10\n",
      "\u001b[1m1310/1310\u001b[0m \u001b[32m━━━━━━━━━━━━━━━━━━━━\u001b[0m\u001b[37m\u001b[0m \u001b[1m2s\u001b[0m 1ms/step - accuracy: 0.5791 - loss: 1.5785 - val_accuracy: 0.5275 - val_loss: 1.8275\n",
      "Epoch 10/10\n",
      "\u001b[1m1310/1310\u001b[0m \u001b[32m━━━━━━━━━━━━━━━━━━━━\u001b[0m\u001b[37m\u001b[0m \u001b[1m2s\u001b[0m 1ms/step - accuracy: 0.5965 - loss: 1.5098 - val_accuracy: 0.5396 - val_loss: 1.7788\n"
     ]
    }
   ],
   "source": [
    "history = model.fit(X_train, y_train, epochs=10, validation_data=(X_test, y_test))"
   ]
  },
  {
   "cell_type": "code",
   "execution_count": null,
   "id": "b6894194-77e3-4d9e-b571-b353f321a629",
   "metadata": {},
   "outputs": [],
   "source": []
  }
 ],
 "metadata": {
  "kernelspec": {
   "display_name": "Python 3 (ipykernel)",
   "language": "python",
   "name": "python3"
  },
  "language_info": {
   "codemirror_mode": {
    "name": "ipython",
    "version": 3
   },
   "file_extension": ".py",
   "mimetype": "text/x-python",
   "name": "python",
   "nbconvert_exporter": "python",
   "pygments_lexer": "ipython3",
   "version": "3.11.5"
  }
 },
 "nbformat": 4,
 "nbformat_minor": 5
}
